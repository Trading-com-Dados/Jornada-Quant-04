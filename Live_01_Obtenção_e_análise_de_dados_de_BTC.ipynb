{
  "cells": [
    {
      "cell_type": "markdown",
      "metadata": {
        "colab_type": "text",
        "id": "view-in-github"
      },
      "source": [
        "<a href=\"https://colab.research.google.com/github/Trading-com-Dados/Jornada-Quant-04/blob/main/Live_01_Obten%C3%A7%C3%A3o_e_an%C3%A1lise_de_dados_de_BTC.ipynb\" target=\"_parent\"><img src=\"https://colab.research.google.com/assets/colab-badge.svg\" alt=\"Open In Colab\"/></a>"
      ]
    },
    {
      "cell_type": "markdown",
      "metadata": {},
      "source": [
        "---\n",
        "# **Jornada Quant - 4ª Edição** \n",
        "---\n",
        "\n",
        "### Código desenvolvido no primeiro dia da Jornada Quant (08/02/2022)<br>\n",
        "\n",
        "[Dia 01](https://www.youtube.com/watch?v=XgbySUkNs64&t=5s) | [Dia 02](https://www.youtube.com/watch?v=lQMa-_Ng0qc&t=30s) | [Dia 03](https://www.youtube.com/watch?v=oJ1Oo8swgCU&t=88s) | [Dia 04](https://www.youtube.com/watch?v=ZkAP3MV1aFM)<p>\n",
        "\n",
        "### *Disclaimer:*\n",
        "Este código foi elaborado para fins exclusivamente educacionais. O conteúdo aqui apresentado visa fornecer informações complementares para auxiliar o investidor na tomada de suas próprias decisões de investimento. Reforçando, nenhum tópico aqui abordado constitui qualquer tipo de indicação/oferta/solicitação de compra/venda de qualquer produto.<br/>\n",
        "<br/>\n",
        "<img src=\"https://tradingcomdados.com/images/logotipo/logotipo-trading-com-dados.svg\" width=\"300\">\n",
        "\n",
        "---"
      ]
    },
    {
      "cell_type": "markdown",
      "metadata": {
        "id": "Gf413fp51AWi"
      },
      "source": [
        "# 1. Instalação e importação de bibliotecas"
      ]
    },
    {
      "cell_type": "code",
      "execution_count": 1,
      "metadata": {
        "colab": {
          "base_uri": "https://localhost:8080/"
        },
        "id": "fLTmJDlI6-ks",
        "outputId": "29dc6f6c-4002-4509-8fba-17df63843f71"
      },
      "outputs": [
        {
          "name": "stdout",
          "output_type": "stream",
          "text": [
            "Collecting python-binance\n",
            "  Downloading python_binance-1.0.15-py2.py3-none-any.whl (63 kB)\n",
            "\u001b[?25l\r\u001b[K     |█████▏                          | 10 kB 25.2 MB/s eta 0:00:01\r\u001b[K     |██████████▎                     | 20 kB 28.9 MB/s eta 0:00:01\r\u001b[K     |███████████████▍                | 30 kB 33.8 MB/s eta 0:00:01\r\u001b[K     |████████████████████▌           | 40 kB 38.0 MB/s eta 0:00:01\r\u001b[K     |█████████████████████████▋      | 51 kB 30.6 MB/s eta 0:00:01\r\u001b[K     |██████████████████████████████▊ | 61 kB 24.9 MB/s eta 0:00:01\r\u001b[K     |████████████████████████████████| 63 kB 2.4 MB/s \n",
            "\u001b[?25hCollecting ujson\n",
            "  Downloading ujson-5.1.0-cp37-cp37m-manylinux_2_17_x86_64.manylinux2014_x86_64.whl (43 kB)\n",
            "\u001b[K     |████████████████████████████████| 43 kB 2.2 MB/s \n",
            "\u001b[?25hCollecting dateparser\n",
            "  Downloading dateparser-1.1.0-py2.py3-none-any.whl (288 kB)\n",
            "\u001b[K     |████████████████████████████████| 288 kB 45.7 MB/s \n",
            "\u001b[?25hCollecting aiohttp\n",
            "  Downloading aiohttp-3.8.1-cp37-cp37m-manylinux_2_5_x86_64.manylinux1_x86_64.manylinux_2_12_x86_64.manylinux2010_x86_64.whl (1.1 MB)\n",
            "\u001b[K     |████████████████████████████████| 1.1 MB 50.0 MB/s \n",
            "\u001b[?25hRequirement already satisfied: six in /usr/local/lib/python3.7/dist-packages (from python-binance) (1.15.0)\n",
            "Requirement already satisfied: requests in /usr/local/lib/python3.7/dist-packages (from python-binance) (2.23.0)\n",
            "Collecting websockets==9.1\n",
            "  Downloading websockets-9.1-cp37-cp37m-manylinux2010_x86_64.whl (103 kB)\n",
            "\u001b[K     |████████████████████████████████| 103 kB 59.5 MB/s \n",
            "\u001b[?25hCollecting asynctest==0.13.0\n",
            "  Downloading asynctest-0.13.0-py3-none-any.whl (26 kB)\n",
            "Collecting frozenlist>=1.1.1\n",
            "  Downloading frozenlist-1.3.0-cp37-cp37m-manylinux_2_5_x86_64.manylinux1_x86_64.manylinux_2_17_x86_64.manylinux2014_x86_64.whl (144 kB)\n",
            "\u001b[K     |████████████████████████████████| 144 kB 58.4 MB/s \n",
            "\u001b[?25hCollecting multidict<7.0,>=4.5\n",
            "  Downloading multidict-6.0.2-cp37-cp37m-manylinux_2_17_x86_64.manylinux2014_x86_64.whl (94 kB)\n",
            "\u001b[K     |████████████████████████████████| 94 kB 2.8 MB/s \n",
            "\u001b[?25hCollecting yarl<2.0,>=1.0\n",
            "  Downloading yarl-1.7.2-cp37-cp37m-manylinux_2_5_x86_64.manylinux1_x86_64.manylinux_2_12_x86_64.manylinux2010_x86_64.whl (271 kB)\n",
            "\u001b[K     |████████████████████████████████| 271 kB 48.3 MB/s \n",
            "\u001b[?25hCollecting async-timeout<5.0,>=4.0.0a3\n",
            "  Downloading async_timeout-4.0.2-py3-none-any.whl (5.8 kB)\n",
            "Requirement already satisfied: attrs>=17.3.0 in /usr/local/lib/python3.7/dist-packages (from aiohttp->python-binance) (21.4.0)\n",
            "Collecting aiosignal>=1.1.2\n",
            "  Downloading aiosignal-1.2.0-py3-none-any.whl (8.2 kB)\n",
            "Requirement already satisfied: typing-extensions>=3.7.4 in /usr/local/lib/python3.7/dist-packages (from aiohttp->python-binance) (3.10.0.2)\n",
            "Requirement already satisfied: charset-normalizer<3.0,>=2.0 in /usr/local/lib/python3.7/dist-packages (from aiohttp->python-binance) (2.0.11)\n",
            "Requirement already satisfied: idna>=2.0 in /usr/local/lib/python3.7/dist-packages (from yarl<2.0,>=1.0->aiohttp->python-binance) (2.10)\n",
            "Requirement already satisfied: pytz in /usr/local/lib/python3.7/dist-packages (from dateparser->python-binance) (2018.9)\n",
            "Requirement already satisfied: regex!=2019.02.19,!=2021.8.27 in /usr/local/lib/python3.7/dist-packages (from dateparser->python-binance) (2019.12.20)\n",
            "Requirement already satisfied: python-dateutil in /usr/local/lib/python3.7/dist-packages (from dateparser->python-binance) (2.8.2)\n",
            "Requirement already satisfied: tzlocal in /usr/local/lib/python3.7/dist-packages (from dateparser->python-binance) (1.5.1)\n",
            "Requirement already satisfied: certifi>=2017.4.17 in /usr/local/lib/python3.7/dist-packages (from requests->python-binance) (2021.10.8)\n",
            "Requirement already satisfied: urllib3!=1.25.0,!=1.25.1,<1.26,>=1.21.1 in /usr/local/lib/python3.7/dist-packages (from requests->python-binance) (1.24.3)\n",
            "Requirement already satisfied: chardet<4,>=3.0.2 in /usr/local/lib/python3.7/dist-packages (from requests->python-binance) (3.0.4)\n",
            "Installing collected packages: multidict, frozenlist, yarl, asynctest, async-timeout, aiosignal, websockets, ujson, dateparser, aiohttp, python-binance\n",
            "Successfully installed aiohttp-3.8.1 aiosignal-1.2.0 async-timeout-4.0.2 asynctest-0.13.0 dateparser-1.1.0 frozenlist-1.3.0 multidict-6.0.2 python-binance-1.0.15 ujson-5.1.0 websockets-9.1 yarl-1.7.2\n",
            "ERROR: unknown command \"instal\" - maybe you meant \"install\"\n"
          ]
        }
      ],
      "source": [
        "!pip install python-binance\n",
        "!pip instal plotly"
      ]
    },
    {
      "cell_type": "code",
      "execution_count": 2,
      "metadata": {
        "id": "XPQ7SFyU6-5b"
      },
      "outputs": [],
      "source": [
        "import pandas as pd\n",
        "from binance.client import Client\n",
        "import plotly.graph_objects as go\n",
        "from plotly.subplots import make_subplots"
      ]
    },
    {
      "cell_type": "code",
      "execution_count": 4,
      "metadata": {
        "id": "EpvDEVNY7nhY"
      },
      "outputs": [],
      "source": [
        "client = Client()"
      ]
    },
    {
      "cell_type": "code",
      "execution_count": 6,
      "metadata": {
        "id": "man_d2UJ7wZi"
      },
      "outputs": [],
      "source": [
        "btcbrl = client.get_historical_klines(symbol = \"BTCBRL\", start_str = \"2021-01-01\", end_str = \"2022-02-08\", interval = Client.KLINE_INTERVAL_1DAY)"
      ]
    },
    {
      "cell_type": "code",
      "execution_count": 7,
      "metadata": {
        "colab": {
          "base_uri": "https://localhost:8080/"
        },
        "id": "vSZV-bCO86TH",
        "outputId": "48b1f6c0-7eee-4701-f622-f21000edb097"
      },
      "outputs": [
        {
          "data": {
            "text/plain": [
              "list"
            ]
          },
          "execution_count": 7,
          "metadata": {},
          "output_type": "execute_result"
        }
      ],
      "source": [
        "type(btcbrl)"
      ]
    },
    {
      "cell_type": "code",
      "execution_count": 10,
      "metadata": {
        "id": "Q80yX2Or9A2D"
      },
      "outputs": [],
      "source": [
        "btc_brl = pd.DataFrame(btcbrl)"
      ]
    },
    {
      "cell_type": "code",
      "execution_count": 11,
      "metadata": {
        "colab": {
          "base_uri": "https://localhost:8080/",
          "height": 270
        },
        "id": "ynDDWZ1Q9VGM",
        "outputId": "282f87f2-d3b0-406c-80c1-c4964f92474e"
      },
      "outputs": [
        {
          "data": {
            "text/html": [
              "\n",
              "  <div id=\"df-5581bf7c-78a3-4398-bdd5-248279db5693\">\n",
              "    <div class=\"colab-df-container\">\n",
              "      <div>\n",
              "<style scoped>\n",
              "    .dataframe tbody tr th:only-of-type {\n",
              "        vertical-align: middle;\n",
              "    }\n",
              "\n",
              "    .dataframe tbody tr th {\n",
              "        vertical-align: top;\n",
              "    }\n",
              "\n",
              "    .dataframe thead th {\n",
              "        text-align: right;\n",
              "    }\n",
              "</style>\n",
              "<table border=\"1\" class=\"dataframe\">\n",
              "  <thead>\n",
              "    <tr style=\"text-align: right;\">\n",
              "      <th></th>\n",
              "      <th>0</th>\n",
              "      <th>1</th>\n",
              "      <th>2</th>\n",
              "      <th>3</th>\n",
              "      <th>4</th>\n",
              "      <th>5</th>\n",
              "      <th>6</th>\n",
              "      <th>7</th>\n",
              "      <th>8</th>\n",
              "      <th>9</th>\n",
              "      <th>10</th>\n",
              "      <th>11</th>\n",
              "    </tr>\n",
              "  </thead>\n",
              "  <tbody>\n",
              "    <tr>\n",
              "      <th>0</th>\n",
              "      <td>1609459200000</td>\n",
              "      <td>152056.00000000</td>\n",
              "      <td>154167.00000000</td>\n",
              "      <td>150911.00000000</td>\n",
              "      <td>153480.00000000</td>\n",
              "      <td>58.94861700</td>\n",
              "      <td>1609545599999</td>\n",
              "      <td>9013538.82790500</td>\n",
              "      <td>6193</td>\n",
              "      <td>31.66333800</td>\n",
              "      <td>4844372.87657400</td>\n",
              "      <td>0</td>\n",
              "    </tr>\n",
              "    <tr>\n",
              "      <th>1</th>\n",
              "      <td>1609545600000</td>\n",
              "      <td>153478.00000000</td>\n",
              "      <td>173900.00000000</td>\n",
              "      <td>152171.00000000</td>\n",
              "      <td>168784.00000000</td>\n",
              "      <td>187.81836700</td>\n",
              "      <td>1609631999999</td>\n",
              "      <td>31072559.50919900</td>\n",
              "      <td>17243</td>\n",
              "      <td>94.22368100</td>\n",
              "      <td>15547826.49058000</td>\n",
              "      <td>0</td>\n",
              "    </tr>\n",
              "    <tr>\n",
              "      <th>2</th>\n",
              "      <td>1609632000000</td>\n",
              "      <td>168885.00000000</td>\n",
              "      <td>180925.00000000</td>\n",
              "      <td>167897.00000000</td>\n",
              "      <td>173503.00000000</td>\n",
              "      <td>172.84791800</td>\n",
              "      <td>1609718399999</td>\n",
              "      <td>30309745.06470000</td>\n",
              "      <td>19212</td>\n",
              "      <td>88.11589700</td>\n",
              "      <td>15459361.59199600</td>\n",
              "      <td>0</td>\n",
              "    </tr>\n",
              "    <tr>\n",
              "      <th>3</th>\n",
              "      <td>1609718400000</td>\n",
              "      <td>173504.00000000</td>\n",
              "      <td>175981.00000000</td>\n",
              "      <td>150000.00000000</td>\n",
              "      <td>169820.00000000</td>\n",
              "      <td>245.30932800</td>\n",
              "      <td>1609804799999</td>\n",
              "      <td>40581533.73573100</td>\n",
              "      <td>24657</td>\n",
              "      <td>122.68715300</td>\n",
              "      <td>20310319.81296200</td>\n",
              "      <td>0</td>\n",
              "    </tr>\n",
              "    <tr>\n",
              "      <th>4</th>\n",
              "      <td>1609804800000</td>\n",
              "      <td>169825.00000000</td>\n",
              "      <td>182966.00000000</td>\n",
              "      <td>159769.00000000</td>\n",
              "      <td>179972.00000000</td>\n",
              "      <td>229.90616900</td>\n",
              "      <td>1609891199999</td>\n",
              "      <td>39920823.60510600</td>\n",
              "      <td>23843</td>\n",
              "      <td>116.75442100</td>\n",
              "      <td>20261180.25133100</td>\n",
              "      <td>0</td>\n",
              "    </tr>\n",
              "  </tbody>\n",
              "</table>\n",
              "</div>\n",
              "      <button class=\"colab-df-convert\" onclick=\"convertToInteractive('df-5581bf7c-78a3-4398-bdd5-248279db5693')\"\n",
              "              title=\"Convert this dataframe to an interactive table.\"\n",
              "              style=\"display:none;\">\n",
              "        \n",
              "  <svg xmlns=\"http://www.w3.org/2000/svg\" height=\"24px\"viewBox=\"0 0 24 24\"\n",
              "       width=\"24px\">\n",
              "    <path d=\"M0 0h24v24H0V0z\" fill=\"none\"/>\n",
              "    <path d=\"M18.56 5.44l.94 2.06.94-2.06 2.06-.94-2.06-.94-.94-2.06-.94 2.06-2.06.94zm-11 1L8.5 8.5l.94-2.06 2.06-.94-2.06-.94L8.5 2.5l-.94 2.06-2.06.94zm10 10l.94 2.06.94-2.06 2.06-.94-2.06-.94-.94-2.06-.94 2.06-2.06.94z\"/><path d=\"M17.41 7.96l-1.37-1.37c-.4-.4-.92-.59-1.43-.59-.52 0-1.04.2-1.43.59L10.3 9.45l-7.72 7.72c-.78.78-.78 2.05 0 2.83L4 21.41c.39.39.9.59 1.41.59.51 0 1.02-.2 1.41-.59l7.78-7.78 2.81-2.81c.8-.78.8-2.07 0-2.86zM5.41 20L4 18.59l7.72-7.72 1.47 1.35L5.41 20z\"/>\n",
              "  </svg>\n",
              "      </button>\n",
              "      \n",
              "  <style>\n",
              "    .colab-df-container {\n",
              "      display:flex;\n",
              "      flex-wrap:wrap;\n",
              "      gap: 12px;\n",
              "    }\n",
              "\n",
              "    .colab-df-convert {\n",
              "      background-color: #E8F0FE;\n",
              "      border: none;\n",
              "      border-radius: 50%;\n",
              "      cursor: pointer;\n",
              "      display: none;\n",
              "      fill: #1967D2;\n",
              "      height: 32px;\n",
              "      padding: 0 0 0 0;\n",
              "      width: 32px;\n",
              "    }\n",
              "\n",
              "    .colab-df-convert:hover {\n",
              "      background-color: #E2EBFA;\n",
              "      box-shadow: 0px 1px 2px rgba(60, 64, 67, 0.3), 0px 1px 3px 1px rgba(60, 64, 67, 0.15);\n",
              "      fill: #174EA6;\n",
              "    }\n",
              "\n",
              "    [theme=dark] .colab-df-convert {\n",
              "      background-color: #3B4455;\n",
              "      fill: #D2E3FC;\n",
              "    }\n",
              "\n",
              "    [theme=dark] .colab-df-convert:hover {\n",
              "      background-color: #434B5C;\n",
              "      box-shadow: 0px 1px 3px 1px rgba(0, 0, 0, 0.15);\n",
              "      filter: drop-shadow(0px 1px 2px rgba(0, 0, 0, 0.3));\n",
              "      fill: #FFFFFF;\n",
              "    }\n",
              "  </style>\n",
              "\n",
              "      <script>\n",
              "        const buttonEl =\n",
              "          document.querySelector('#df-5581bf7c-78a3-4398-bdd5-248279db5693 button.colab-df-convert');\n",
              "        buttonEl.style.display =\n",
              "          google.colab.kernel.accessAllowed ? 'block' : 'none';\n",
              "\n",
              "        async function convertToInteractive(key) {\n",
              "          const element = document.querySelector('#df-5581bf7c-78a3-4398-bdd5-248279db5693');\n",
              "          const dataTable =\n",
              "            await google.colab.kernel.invokeFunction('convertToInteractive',\n",
              "                                                     [key], {});\n",
              "          if (!dataTable) return;\n",
              "\n",
              "          const docLinkHtml = 'Like what you see? Visit the ' +\n",
              "            '<a target=\"_blank\" href=https://colab.research.google.com/notebooks/data_table.ipynb>data table notebook</a>'\n",
              "            + ' to learn more about interactive tables.';\n",
              "          element.innerHTML = '';\n",
              "          dataTable['output_type'] = 'display_data';\n",
              "          await google.colab.output.renderOutput(dataTable, element);\n",
              "          const docLink = document.createElement('div');\n",
              "          docLink.innerHTML = docLinkHtml;\n",
              "          element.appendChild(docLink);\n",
              "        }\n",
              "      </script>\n",
              "    </div>\n",
              "  </div>\n",
              "  "
            ],
            "text/plain": [
              "              0                1   ...                 10 11\n",
              "0  1609459200000  152056.00000000  ...   4844372.87657400  0\n",
              "1  1609545600000  153478.00000000  ...  15547826.49058000  0\n",
              "2  1609632000000  168885.00000000  ...  15459361.59199600  0\n",
              "3  1609718400000  173504.00000000  ...  20310319.81296200  0\n",
              "4  1609804800000  169825.00000000  ...  20261180.25133100  0\n",
              "\n",
              "[5 rows x 12 columns]"
            ]
          },
          "execution_count": 11,
          "metadata": {},
          "output_type": "execute_result"
        }
      ],
      "source": [
        "btc_brl.head()"
      ]
    },
    {
      "cell_type": "code",
      "execution_count": 12,
      "metadata": {
        "id": "OViMwAIk9W_j"
      },
      "outputs": [],
      "source": [
        "# Renomear as colunas\n",
        "btc_brl.rename(columns={0:'date',1:'open',2:'high',3:'low',4:'close'},inplace=True)\n",
        "\n",
        "# Configurar o indice do dataframe como sendo a data\n",
        "btc_brl.set_index('date', inplace=True)\n",
        "\n",
        "# Mudar o formato da data para padrão\n",
        "btc_brl.index = pd.to_datetime(btc_brl.index,unit='ms')\n",
        "\n",
        "# Dropar todas as colunas da 4 pra frente\n",
        "btc_brl = btc_brl.drop(btc_brl.columns[4:],axis=1)"
      ]
    },
    {
      "cell_type": "code",
      "execution_count": 13,
      "metadata": {
        "colab": {
          "base_uri": "https://localhost:8080/",
          "height": 237
        },
        "id": "kMYCYV559721",
        "outputId": "3aec23d7-1d97-41e3-f295-1103337b99a7"
      },
      "outputs": [
        {
          "data": {
            "text/html": [
              "\n",
              "  <div id=\"df-f9db7599-d6bb-43a4-b238-480f9ba86407\">\n",
              "    <div class=\"colab-df-container\">\n",
              "      <div>\n",
              "<style scoped>\n",
              "    .dataframe tbody tr th:only-of-type {\n",
              "        vertical-align: middle;\n",
              "    }\n",
              "\n",
              "    .dataframe tbody tr th {\n",
              "        vertical-align: top;\n",
              "    }\n",
              "\n",
              "    .dataframe thead th {\n",
              "        text-align: right;\n",
              "    }\n",
              "</style>\n",
              "<table border=\"1\" class=\"dataframe\">\n",
              "  <thead>\n",
              "    <tr style=\"text-align: right;\">\n",
              "      <th></th>\n",
              "      <th>open</th>\n",
              "      <th>high</th>\n",
              "      <th>low</th>\n",
              "      <th>close</th>\n",
              "    </tr>\n",
              "    <tr>\n",
              "      <th>date</th>\n",
              "      <th></th>\n",
              "      <th></th>\n",
              "      <th></th>\n",
              "      <th></th>\n",
              "    </tr>\n",
              "  </thead>\n",
              "  <tbody>\n",
              "    <tr>\n",
              "      <th>2021-01-01</th>\n",
              "      <td>152056.00000000</td>\n",
              "      <td>154167.00000000</td>\n",
              "      <td>150911.00000000</td>\n",
              "      <td>153480.00000000</td>\n",
              "    </tr>\n",
              "    <tr>\n",
              "      <th>2021-01-02</th>\n",
              "      <td>153478.00000000</td>\n",
              "      <td>173900.00000000</td>\n",
              "      <td>152171.00000000</td>\n",
              "      <td>168784.00000000</td>\n",
              "    </tr>\n",
              "    <tr>\n",
              "      <th>2021-01-03</th>\n",
              "      <td>168885.00000000</td>\n",
              "      <td>180925.00000000</td>\n",
              "      <td>167897.00000000</td>\n",
              "      <td>173503.00000000</td>\n",
              "    </tr>\n",
              "    <tr>\n",
              "      <th>2021-01-04</th>\n",
              "      <td>173504.00000000</td>\n",
              "      <td>175981.00000000</td>\n",
              "      <td>150000.00000000</td>\n",
              "      <td>169820.00000000</td>\n",
              "    </tr>\n",
              "    <tr>\n",
              "      <th>2021-01-05</th>\n",
              "      <td>169825.00000000</td>\n",
              "      <td>182966.00000000</td>\n",
              "      <td>159769.00000000</td>\n",
              "      <td>179972.00000000</td>\n",
              "    </tr>\n",
              "  </tbody>\n",
              "</table>\n",
              "</div>\n",
              "      <button class=\"colab-df-convert\" onclick=\"convertToInteractive('df-f9db7599-d6bb-43a4-b238-480f9ba86407')\"\n",
              "              title=\"Convert this dataframe to an interactive table.\"\n",
              "              style=\"display:none;\">\n",
              "        \n",
              "  <svg xmlns=\"http://www.w3.org/2000/svg\" height=\"24px\"viewBox=\"0 0 24 24\"\n",
              "       width=\"24px\">\n",
              "    <path d=\"M0 0h24v24H0V0z\" fill=\"none\"/>\n",
              "    <path d=\"M18.56 5.44l.94 2.06.94-2.06 2.06-.94-2.06-.94-.94-2.06-.94 2.06-2.06.94zm-11 1L8.5 8.5l.94-2.06 2.06-.94-2.06-.94L8.5 2.5l-.94 2.06-2.06.94zm10 10l.94 2.06.94-2.06 2.06-.94-2.06-.94-.94-2.06-.94 2.06-2.06.94z\"/><path d=\"M17.41 7.96l-1.37-1.37c-.4-.4-.92-.59-1.43-.59-.52 0-1.04.2-1.43.59L10.3 9.45l-7.72 7.72c-.78.78-.78 2.05 0 2.83L4 21.41c.39.39.9.59 1.41.59.51 0 1.02-.2 1.41-.59l7.78-7.78 2.81-2.81c.8-.78.8-2.07 0-2.86zM5.41 20L4 18.59l7.72-7.72 1.47 1.35L5.41 20z\"/>\n",
              "  </svg>\n",
              "      </button>\n",
              "      \n",
              "  <style>\n",
              "    .colab-df-container {\n",
              "      display:flex;\n",
              "      flex-wrap:wrap;\n",
              "      gap: 12px;\n",
              "    }\n",
              "\n",
              "    .colab-df-convert {\n",
              "      background-color: #E8F0FE;\n",
              "      border: none;\n",
              "      border-radius: 50%;\n",
              "      cursor: pointer;\n",
              "      display: none;\n",
              "      fill: #1967D2;\n",
              "      height: 32px;\n",
              "      padding: 0 0 0 0;\n",
              "      width: 32px;\n",
              "    }\n",
              "\n",
              "    .colab-df-convert:hover {\n",
              "      background-color: #E2EBFA;\n",
              "      box-shadow: 0px 1px 2px rgba(60, 64, 67, 0.3), 0px 1px 3px 1px rgba(60, 64, 67, 0.15);\n",
              "      fill: #174EA6;\n",
              "    }\n",
              "\n",
              "    [theme=dark] .colab-df-convert {\n",
              "      background-color: #3B4455;\n",
              "      fill: #D2E3FC;\n",
              "    }\n",
              "\n",
              "    [theme=dark] .colab-df-convert:hover {\n",
              "      background-color: #434B5C;\n",
              "      box-shadow: 0px 1px 3px 1px rgba(0, 0, 0, 0.15);\n",
              "      filter: drop-shadow(0px 1px 2px rgba(0, 0, 0, 0.3));\n",
              "      fill: #FFFFFF;\n",
              "    }\n",
              "  </style>\n",
              "\n",
              "      <script>\n",
              "        const buttonEl =\n",
              "          document.querySelector('#df-f9db7599-d6bb-43a4-b238-480f9ba86407 button.colab-df-convert');\n",
              "        buttonEl.style.display =\n",
              "          google.colab.kernel.accessAllowed ? 'block' : 'none';\n",
              "\n",
              "        async function convertToInteractive(key) {\n",
              "          const element = document.querySelector('#df-f9db7599-d6bb-43a4-b238-480f9ba86407');\n",
              "          const dataTable =\n",
              "            await google.colab.kernel.invokeFunction('convertToInteractive',\n",
              "                                                     [key], {});\n",
              "          if (!dataTable) return;\n",
              "\n",
              "          const docLinkHtml = 'Like what you see? Visit the ' +\n",
              "            '<a target=\"_blank\" href=https://colab.research.google.com/notebooks/data_table.ipynb>data table notebook</a>'\n",
              "            + ' to learn more about interactive tables.';\n",
              "          element.innerHTML = '';\n",
              "          dataTable['output_type'] = 'display_data';\n",
              "          await google.colab.output.renderOutput(dataTable, element);\n",
              "          const docLink = document.createElement('div');\n",
              "          docLink.innerHTML = docLinkHtml;\n",
              "          element.appendChild(docLink);\n",
              "        }\n",
              "      </script>\n",
              "    </div>\n",
              "  </div>\n",
              "  "
            ],
            "text/plain": [
              "                       open             high              low            close\n",
              "date                                                                          \n",
              "2021-01-01  152056.00000000  154167.00000000  150911.00000000  153480.00000000\n",
              "2021-01-02  153478.00000000  173900.00000000  152171.00000000  168784.00000000\n",
              "2021-01-03  168885.00000000  180925.00000000  167897.00000000  173503.00000000\n",
              "2021-01-04  173504.00000000  175981.00000000  150000.00000000  169820.00000000\n",
              "2021-01-05  169825.00000000  182966.00000000  159769.00000000  179972.00000000"
            ]
          },
          "execution_count": 13,
          "metadata": {},
          "output_type": "execute_result"
        }
      ],
      "source": [
        "btc_brl.head()"
      ]
    },
    {
      "cell_type": "code",
      "execution_count": 14,
      "metadata": {
        "colab": {
          "base_uri": "https://localhost:8080/"
        },
        "id": "exz-oWDd9_xa",
        "outputId": "be22076d-f117-463e-9752-5e73dd64b090"
      },
      "outputs": [
        {
          "data": {
            "text/plain": [
              "open     object\n",
              "high     object\n",
              "low      object\n",
              "close    object\n",
              "dtype: object"
            ]
          },
          "execution_count": 14,
          "metadata": {},
          "output_type": "execute_result"
        }
      ],
      "source": [
        "btc_brl.dtypes"
      ]
    },
    {
      "cell_type": "code",
      "execution_count": 15,
      "metadata": {
        "id": "kAVMgpeU-LYq"
      },
      "outputs": [],
      "source": [
        "btc_brl['open'] = pd.to_numeric(btc_brl['open'])\n",
        "btc_brl['high'] = pd.to_numeric(btc_brl['high'])\n",
        "btc_brl['low'] = pd.to_numeric(btc_brl['low'])\n",
        "btc_brl['close'] = pd.to_numeric(btc_brl['close'])"
      ]
    },
    {
      "cell_type": "markdown",
      "metadata": {
        "id": "sx-XFtUE-bWN"
      },
      "source": [
        "# 2. Análise Quantitativa"
      ]
    },
    {
      "cell_type": "code",
      "execution_count": 18,
      "metadata": {
        "colab": {
          "base_uri": "https://localhost:8080/",
          "height": 345
        },
        "id": "_hnOAyk5-hwE",
        "outputId": "4db2ded2-2be0-4c07-8573-3c51ad5801de"
      },
      "outputs": [
        {
          "data": {
            "image/png": "[encoded data removed]",
            "text/plain": [
              "<Figure size 360x360 with 1 Axes>"
            ]
          },
          "metadata": {
            "needs_background": "light"
          },
          "output_type": "display_data"
        }
      ],
      "source": [
        "btc_brl['close'].plot(figsize = (5,5));"
      ]
    },
    {
      "cell_type": "code",
      "execution_count": 19,
      "metadata": {
        "colab": {
          "base_uri": "https://localhost:8080/",
          "height": 345
        },
        "id": "LKOg02eI-wjU",
        "outputId": "91be590a-a037-4df6-ffa3-d8503347eed0"
      },
      "outputs": [
        {
          "data": {
            "image/png": "[encoded data removed]",
            "text/plain": [
              "<Figure size 360x360 with 1 Axes>"
            ]
          },
          "metadata": {
            "needs_background": "light"
          },
          "output_type": "display_data"
        }
      ],
      "source": [
        "btc_brl.close.plot(figsize = (5,5));"
      ]
    },
    {
      "cell_type": "code",
      "execution_count": 20,
      "metadata": {
        "id": "uuSbDM2Q-9M9"
      },
      "outputs": [],
      "source": [
        "btc_brl['retornos'] = btc_brl['close'].pct_change()"
      ]
    },
    {
      "cell_type": "code",
      "execution_count": 21,
      "metadata": {
        "colab": {
          "base_uri": "https://localhost:8080/",
          "height": 237
        },
        "id": "wVrH9HBp_YM8",
        "outputId": "d81af26a-7370-4e4f-fe4f-6feb28738847"
      },
      "outputs": [
        {
          "data": {
            "text/html": [
              "\n",
              "  <div id=\"df-ce7b5ccb-33a8-4c50-a221-f9d26f5f6b4e\">\n",
              "    <div class=\"colab-df-container\">\n",
              "      <div>\n",
              "<style scoped>\n",
              "    .dataframe tbody tr th:only-of-type {\n",
              "        vertical-align: middle;\n",
              "    }\n",
              "\n",
              "    .dataframe tbody tr th {\n",
              "        vertical-align: top;\n",
              "    }\n",
              "\n",
              "    .dataframe thead th {\n",
              "        text-align: right;\n",
              "    }\n",
              "</style>\n",
              "<table border=\"1\" class=\"dataframe\">\n",
              "  <thead>\n",
              "    <tr style=\"text-align: right;\">\n",
              "      <th></th>\n",
              "      <th>open</th>\n",
              "      <th>high</th>\n",
              "      <th>low</th>\n",
              "      <th>close</th>\n",
              "      <th>retornos</th>\n",
              "    </tr>\n",
              "    <tr>\n",
              "      <th>date</th>\n",
              "      <th></th>\n",
              "      <th></th>\n",
              "      <th></th>\n",
              "      <th></th>\n",
              "      <th></th>\n",
              "    </tr>\n",
              "  </thead>\n",
              "  <tbody>\n",
              "    <tr>\n",
              "      <th>2021-01-01</th>\n",
              "      <td>152056.0</td>\n",
              "      <td>154167.0</td>\n",
              "      <td>150911.0</td>\n",
              "      <td>153480.0</td>\n",
              "      <td>NaN</td>\n",
              "    </tr>\n",
              "    <tr>\n",
              "      <th>2021-01-02</th>\n",
              "      <td>153478.0</td>\n",
              "      <td>173900.0</td>\n",
              "      <td>152171.0</td>\n",
              "      <td>168784.0</td>\n",
              "      <td>0.099713</td>\n",
              "    </tr>\n",
              "    <tr>\n",
              "      <th>2021-01-03</th>\n",
              "      <td>168885.0</td>\n",
              "      <td>180925.0</td>\n",
              "      <td>167897.0</td>\n",
              "      <td>173503.0</td>\n",
              "      <td>0.027959</td>\n",
              "    </tr>\n",
              "    <tr>\n",
              "      <th>2021-01-04</th>\n",
              "      <td>173504.0</td>\n",
              "      <td>175981.0</td>\n",
              "      <td>150000.0</td>\n",
              "      <td>169820.0</td>\n",
              "      <td>-0.021227</td>\n",
              "    </tr>\n",
              "    <tr>\n",
              "      <th>2021-01-05</th>\n",
              "      <td>169825.0</td>\n",
              "      <td>182966.0</td>\n",
              "      <td>159769.0</td>\n",
              "      <td>179972.0</td>\n",
              "      <td>0.059781</td>\n",
              "    </tr>\n",
              "  </tbody>\n",
              "</table>\n",
              "</div>\n",
              "      <button class=\"colab-df-convert\" onclick=\"convertToInteractive('df-ce7b5ccb-33a8-4c50-a221-f9d26f5f6b4e')\"\n",
              "              title=\"Convert this dataframe to an interactive table.\"\n",
              "              style=\"display:none;\">\n",
              "        \n",
              "  <svg xmlns=\"http://www.w3.org/2000/svg\" height=\"24px\"viewBox=\"0 0 24 24\"\n",
              "       width=\"24px\">\n",
              "    <path d=\"M0 0h24v24H0V0z\" fill=\"none\"/>\n",
              "    <path d=\"M18.56 5.44l.94 2.06.94-2.06 2.06-.94-2.06-.94-.94-2.06-.94 2.06-2.06.94zm-11 1L8.5 8.5l.94-2.06 2.06-.94-2.06-.94L8.5 2.5l-.94 2.06-2.06.94zm10 10l.94 2.06.94-2.06 2.06-.94-2.06-.94-.94-2.06-.94 2.06-2.06.94z\"/><path d=\"M17.41 7.96l-1.37-1.37c-.4-.4-.92-.59-1.43-.59-.52 0-1.04.2-1.43.59L10.3 9.45l-7.72 7.72c-.78.78-.78 2.05 0 2.83L4 21.41c.39.39.9.59 1.41.59.51 0 1.02-.2 1.41-.59l7.78-7.78 2.81-2.81c.8-.78.8-2.07 0-2.86zM5.41 20L4 18.59l7.72-7.72 1.47 1.35L5.41 20z\"/>\n",
              "  </svg>\n",
              "      </button>\n",
              "      \n",
              "  <style>\n",
              "    .colab-df-container {\n",
              "      display:flex;\n",
              "      flex-wrap:wrap;\n",
              "      gap: 12px;\n",
              "    }\n",
              "\n",
              "    .colab-df-convert {\n",
              "      background-color: #E8F0FE;\n",
              "      border: none;\n",
              "      border-radius: 50%;\n",
              "      cursor: pointer;\n",
              "      display: none;\n",
              "      fill: #1967D2;\n",
              "      height: 32px;\n",
              "      padding: 0 0 0 0;\n",
              "      width: 32px;\n",
              "    }\n",
              "\n",
              "    .colab-df-convert:hover {\n",
              "      background-color: #E2EBFA;\n",
              "      box-shadow: 0px 1px 2px rgba(60, 64, 67, 0.3), 0px 1px 3px 1px rgba(60, 64, 67, 0.15);\n",
              "      fill: #174EA6;\n",
              "    }\n",
              "\n",
              "    [theme=dark] .colab-df-convert {\n",
              "      background-color: #3B4455;\n",
              "      fill: #D2E3FC;\n",
              "    }\n",
              "\n",
              "    [theme=dark] .colab-df-convert:hover {\n",
              "      background-color: #434B5C;\n",
              "      box-shadow: 0px 1px 3px 1px rgba(0, 0, 0, 0.15);\n",
              "      filter: drop-shadow(0px 1px 2px rgba(0, 0, 0, 0.3));\n",
              "      fill: #FFFFFF;\n",
              "    }\n",
              "  </style>\n",
              "\n",
              "      <script>\n",
              "        const buttonEl =\n",
              "          document.querySelector('#df-ce7b5ccb-33a8-4c50-a221-f9d26f5f6b4e button.colab-df-convert');\n",
              "        buttonEl.style.display =\n",
              "          google.colab.kernel.accessAllowed ? 'block' : 'none';\n",
              "\n",
              "        async function convertToInteractive(key) {\n",
              "          const element = document.querySelector('#df-ce7b5ccb-33a8-4c50-a221-f9d26f5f6b4e');\n",
              "          const dataTable =\n",
              "            await google.colab.kernel.invokeFunction('convertToInteractive',\n",
              "                                                     [key], {});\n",
              "          if (!dataTable) return;\n",
              "\n",
              "          const docLinkHtml = 'Like what you see? Visit the ' +\n",
              "            '<a target=\"_blank\" href=https://colab.research.google.com/notebooks/data_table.ipynb>data table notebook</a>'\n",
              "            + ' to learn more about interactive tables.';\n",
              "          element.innerHTML = '';\n",
              "          dataTable['output_type'] = 'display_data';\n",
              "          await google.colab.output.renderOutput(dataTable, element);\n",
              "          const docLink = document.createElement('div');\n",
              "          docLink.innerHTML = docLinkHtml;\n",
              "          element.appendChild(docLink);\n",
              "        }\n",
              "      </script>\n",
              "    </div>\n",
              "  </div>\n",
              "  "
            ],
            "text/plain": [
              "                open      high       low     close  retornos\n",
              "date                                                        \n",
              "2021-01-01  152056.0  154167.0  150911.0  153480.0       NaN\n",
              "2021-01-02  153478.0  173900.0  152171.0  168784.0  0.099713\n",
              "2021-01-03  168885.0  180925.0  167897.0  173503.0  0.027959\n",
              "2021-01-04  173504.0  175981.0  150000.0  169820.0 -0.021227\n",
              "2021-01-05  169825.0  182966.0  159769.0  179972.0  0.059781"
            ]
          },
          "execution_count": 21,
          "metadata": {},
          "output_type": "execute_result"
        }
      ],
      "source": [
        "btc_brl.head()"
      ]
    },
    {
      "cell_type": "code",
      "execution_count": 22,
      "metadata": {
        "colab": {
          "base_uri": "https://localhost:8080/"
        },
        "id": "BW8QyQex_Z0D",
        "outputId": "42b6e9b3-a47b-44ab-8c46-779cb90edd62"
      },
      "outputs": [
        {
          "data": {
            "text/plain": [
              "count    403.000000\n",
              "mean       0.001815\n",
              "std        0.039452\n",
              "min       -0.124411\n",
              "25%       -0.019981\n",
              "50%        0.000319\n",
              "75%        0.021763\n",
              "max        0.165940\n",
              "Name: retornos, dtype: float64"
            ]
          },
          "execution_count": 22,
          "metadata": {},
          "output_type": "execute_result"
        }
      ],
      "source": [
        "btc_brl['retornos'].describe()"
      ]
    },
    {
      "cell_type": "code",
      "execution_count": 25,
      "metadata": {
        "colab": {
          "base_uri": "https://localhost:8080/",
          "height": 265
        },
        "id": "Q-B7jamx_l3b",
        "outputId": "154132bf-4514-4b05-b3bc-cc033e10cf8f"
      },
      "outputs": [
        {
          "data": {
            "image/png": "[encoded data removed]",
            "text/plain": [
              "<Figure size 432x288 with 1 Axes>"
            ]
          },
          "metadata": {
            "needs_background": "light"
          },
          "output_type": "display_data"
        }
      ],
      "source": [
        "# Distribuição dos retornos do BTC\n",
        "\n",
        "btc_brl['retornos'].plot.hist(bins = 100);"
      ]
    },
    {
      "cell_type": "code",
      "execution_count": 26,
      "metadata": {
        "id": "nat7RurU_zPD"
      },
      "outputs": [],
      "source": [
        "# Janela de volatilidade\n",
        "\n",
        "vol_30 = btc_brl['retornos'].rolling(window = 30).std()"
      ]
    },
    {
      "cell_type": "code",
      "execution_count": 27,
      "metadata": {
        "colab": {
          "base_uri": "https://localhost:8080/",
          "height": 308
        },
        "id": "c7OqHPVIAjMN",
        "outputId": "56336579-0125-4bf0-d302-2e7d50cc40a2"
      },
      "outputs": [
        {
          "data": {
            "text/plain": [
              "<matplotlib.axes._subplots.AxesSubplot at 0x7ff8125fb5d0>"
            ]
          },
          "execution_count": 27,
          "metadata": {},
          "output_type": "execute_result"
        },
        {
          "data": {
            "image/png": "[encoded data removed]",
            "text/plain": [
              "<Figure size 432x288 with 1 Axes>"
            ]
          },
          "metadata": {
            "needs_background": "light"
          },
          "output_type": "display_data"
        }
      ],
      "source": [
        "vol_30.plot()"
      ]
    },
    {
      "cell_type": "code",
      "execution_count": 28,
      "metadata": {
        "id": "h6FeZtyNAk5L"
      },
      "outputs": [],
      "source": [
        "# Drawdown em janela de 30 dias\n",
        "# Perda máxima em um determinado período - distância entre ganho máximo e a mínima\n",
        "\n",
        "dd_30 = btc_brl['retornos'].rolling(window = 30).min()"
      ]
    },
    {
      "cell_type": "code",
      "execution_count": 29,
      "metadata": {
        "colab": {
          "base_uri": "https://localhost:8080/",
          "height": 291
        },
        "id": "JtNobxsWBXhu",
        "outputId": "4b571045-7875-4354-a2af-d1d7523bb06b"
      },
      "outputs": [
        {
          "data": {
            "image/png": "[encoded data removed]",
            "text/plain": [
              "<Figure size 432x288 with 1 Axes>"
            ]
          },
          "metadata": {
            "needs_background": "light"
          },
          "output_type": "display_data"
        }
      ],
      "source": [
        "dd_30.plot();"
      ]
    },
    {
      "cell_type": "markdown",
      "metadata": {
        "id": "9f5UeecXBZEb"
      },
      "source": [
        "# 3. Criação dos sinais do trading e backtesting"
      ]
    },
    {
      "cell_type": "markdown",
      "metadata": {
        "id": "DMaD4WELD8kf"
      },
      "source": [
        "## 3.1. Definição "
      ]
    },
    {
      "cell_type": "code",
      "execution_count": 30,
      "metadata": {
        "colab": {
          "base_uri": "https://localhost:8080/",
          "height": 360
        },
        "id": "6yNo_HEyCBPa",
        "outputId": "54fd2f20-1fcc-4d8c-d52b-3b5b28e4bae9"
      },
      "outputs": [
        {
          "data": {
            "image/jpeg": "[encoded data removed]",
            "text/plain": [
              "<IPython.core.display.Image object>"
            ]
          },
          "execution_count": 30,
          "metadata": {
            "image/jpeg": {
              "width": 500
            }
          },
          "output_type": "execute_result"
        }
      ],
      "source": [
        "import IPython\n",
        "url = 'https://i1.wp.com/escolatrader.net/wp-content/uploads/2013/08/petr4pond.jpg'\n",
        "IPython.display.Image(url, width = 500)\n"
      ]
    },
    {
      "cell_type": "code",
      "execution_count": 31,
      "metadata": {
        "id": "HCWMDtIGCYec"
      },
      "outputs": [],
      "source": [
        "# Lembrete: procure parametrizar tudo o que você faz\n",
        "\n",
        "## Variação mínima do preço || Ações = R$0.01 || WINFUT = 5pts || INDFUT= 1pt\n",
        "\n",
        "tick_min = 1 # variação minínima para ações no preço\n",
        "MM_periodo = 9\n"
      ]
    },
    {
      "cell_type": "markdown",
      "metadata": {
        "id": "EUFIh516D5kz"
      },
      "source": [
        "## 3.2. Construção do sinal de COMPRA"
      ]
    },
    {
      "cell_type": "markdown",
      "metadata": {
        "id": "TNgAK97ZEA1O"
      },
      "source": [
        "Regra 1: Preço Fech > MM"
      ]
    },
    {
      "cell_type": "code",
      "execution_count": 33,
      "metadata": {
        "id": "OuS4fPSuEUp1"
      },
      "outputs": [],
      "source": [
        "## Cálculo Média Móvel de 9 períodos\n",
        "MMA = btc_brl['close'].rolling(window=MM_periodo).mean()"
      ]
    },
    {
      "cell_type": "code",
      "execution_count": 34,
      "metadata": {
        "colab": {
          "base_uri": "https://localhost:8080/",
          "height": 291
        },
        "id": "U1T7MnQCEg0u",
        "outputId": "34cbf5ef-d3a1-46d3-842c-039a7563954f"
      },
      "outputs": [
        {
          "data": {
            "image/png": "[encoded data removed]",
            "text/plain": [
              "<Figure size 432x288 with 1 Axes>"
            ]
          },
          "metadata": {
            "needs_background": "light"
          },
          "output_type": "display_data"
        }
      ],
      "source": [
        "MMA.plot();"
      ]
    },
    {
      "cell_type": "code",
      "execution_count": 35,
      "metadata": {
        "colab": {
          "base_uri": "https://localhost:8080/",
          "height": 708
        },
        "id": "FFqO9ngXERJ0",
        "outputId": "d8f5758d-b6c5-4119-fd87-0f81060828a1"
      },
      "outputs": [
        {
          "data": {
            "text/html": [
              "\n",
              "  <div id=\"df-c8a45cb3-a94c-45b7-be34-70527e5b6f0b\">\n",
              "    <div class=\"colab-df-container\">\n",
              "      <div>\n",
              "<style scoped>\n",
              "    .dataframe tbody tr th:only-of-type {\n",
              "        vertical-align: middle;\n",
              "    }\n",
              "\n",
              "    .dataframe tbody tr th {\n",
              "        vertical-align: top;\n",
              "    }\n",
              "\n",
              "    .dataframe thead th {\n",
              "        text-align: right;\n",
              "    }\n",
              "</style>\n",
              "<table border=\"1\" class=\"dataframe\">\n",
              "  <thead>\n",
              "    <tr style=\"text-align: right;\">\n",
              "      <th></th>\n",
              "      <th>open</th>\n",
              "      <th>high</th>\n",
              "      <th>low</th>\n",
              "      <th>close</th>\n",
              "      <th>retornos</th>\n",
              "      <th>MMA</th>\n",
              "    </tr>\n",
              "    <tr>\n",
              "      <th>date</th>\n",
              "      <th></th>\n",
              "      <th></th>\n",
              "      <th></th>\n",
              "      <th></th>\n",
              "      <th></th>\n",
              "      <th></th>\n",
              "    </tr>\n",
              "  </thead>\n",
              "  <tbody>\n",
              "    <tr>\n",
              "      <th>2021-01-01</th>\n",
              "      <td>152056.0</td>\n",
              "      <td>154167.0</td>\n",
              "      <td>150911.0</td>\n",
              "      <td>153480.0</td>\n",
              "      <td>NaN</td>\n",
              "      <td>NaN</td>\n",
              "    </tr>\n",
              "    <tr>\n",
              "      <th>2021-01-02</th>\n",
              "      <td>153478.0</td>\n",
              "      <td>173900.0</td>\n",
              "      <td>152171.0</td>\n",
              "      <td>168784.0</td>\n",
              "      <td>0.099713</td>\n",
              "      <td>NaN</td>\n",
              "    </tr>\n",
              "    <tr>\n",
              "      <th>2021-01-03</th>\n",
              "      <td>168885.0</td>\n",
              "      <td>180925.0</td>\n",
              "      <td>167897.0</td>\n",
              "      <td>173503.0</td>\n",
              "      <td>0.027959</td>\n",
              "      <td>NaN</td>\n",
              "    </tr>\n",
              "    <tr>\n",
              "      <th>2021-01-04</th>\n",
              "      <td>173504.0</td>\n",
              "      <td>175981.0</td>\n",
              "      <td>150000.0</td>\n",
              "      <td>169820.0</td>\n",
              "      <td>-0.021227</td>\n",
              "      <td>NaN</td>\n",
              "    </tr>\n",
              "    <tr>\n",
              "      <th>2021-01-05</th>\n",
              "      <td>169825.0</td>\n",
              "      <td>182966.0</td>\n",
              "      <td>159769.0</td>\n",
              "      <td>179972.0</td>\n",
              "      <td>0.059781</td>\n",
              "      <td>NaN</td>\n",
              "    </tr>\n",
              "    <tr>\n",
              "      <th>2021-01-06</th>\n",
              "      <td>179990.0</td>\n",
              "      <td>197555.0</td>\n",
              "      <td>177210.0</td>\n",
              "      <td>196635.0</td>\n",
              "      <td>0.092587</td>\n",
              "      <td>NaN</td>\n",
              "    </tr>\n",
              "    <tr>\n",
              "      <th>2021-01-07</th>\n",
              "      <td>196752.0</td>\n",
              "      <td>222813.0</td>\n",
              "      <td>194600.0</td>\n",
              "      <td>215874.0</td>\n",
              "      <td>0.097841</td>\n",
              "      <td>NaN</td>\n",
              "    </tr>\n",
              "    <tr>\n",
              "      <th>2021-01-08</th>\n",
              "      <td>216160.0</td>\n",
              "      <td>228045.0</td>\n",
              "      <td>200150.0</td>\n",
              "      <td>222915.0</td>\n",
              "      <td>0.032616</td>\n",
              "      <td>NaN</td>\n",
              "    </tr>\n",
              "    <tr>\n",
              "      <th>2021-01-09</th>\n",
              "      <td>223113.0</td>\n",
              "      <td>225333.0</td>\n",
              "      <td>213593.0</td>\n",
              "      <td>220612.0</td>\n",
              "      <td>-0.010331</td>\n",
              "      <td>189066.111111</td>\n",
              "    </tr>\n",
              "    <tr>\n",
              "      <th>2021-01-10</th>\n",
              "      <td>220504.0</td>\n",
              "      <td>224900.0</td>\n",
              "      <td>188500.0</td>\n",
              "      <td>209390.0</td>\n",
              "      <td>-0.050868</td>\n",
              "      <td>195278.333333</td>\n",
              "    </tr>\n",
              "    <tr>\n",
              "      <th>2021-01-11</th>\n",
              "      <td>209415.0</td>\n",
              "      <td>209822.0</td>\n",
              "      <td>168112.0</td>\n",
              "      <td>199020.0</td>\n",
              "      <td>-0.049525</td>\n",
              "      <td>198637.888889</td>\n",
              "    </tr>\n",
              "    <tr>\n",
              "      <th>2021-01-12</th>\n",
              "      <td>199160.0</td>\n",
              "      <td>203999.0</td>\n",
              "      <td>180375.0</td>\n",
              "      <td>184137.0</td>\n",
              "      <td>-0.074781</td>\n",
              "      <td>199819.444444</td>\n",
              "    </tr>\n",
              "    <tr>\n",
              "      <th>2021-01-13</th>\n",
              "      <td>183868.0</td>\n",
              "      <td>200600.0</td>\n",
              "      <td>177000.0</td>\n",
              "      <td>198819.0</td>\n",
              "      <td>0.079734</td>\n",
              "      <td>203041.555556</td>\n",
              "    </tr>\n",
              "    <tr>\n",
              "      <th>2021-01-14</th>\n",
              "      <td>198827.0</td>\n",
              "      <td>211899.0</td>\n",
              "      <td>196299.0</td>\n",
              "      <td>206134.0</td>\n",
              "      <td>0.036792</td>\n",
              "      <td>205948.444444</td>\n",
              "    </tr>\n",
              "    <tr>\n",
              "      <th>2021-01-15</th>\n",
              "      <td>205900.0</td>\n",
              "      <td>207684.0</td>\n",
              "      <td>184563.0</td>\n",
              "      <td>197976.0</td>\n",
              "      <td>-0.039576</td>\n",
              "      <td>206097.444444</td>\n",
              "    </tr>\n",
              "    <tr>\n",
              "      <th>2021-01-16</th>\n",
              "      <td>197757.0</td>\n",
              "      <td>202124.0</td>\n",
              "      <td>190633.0</td>\n",
              "      <td>194270.0</td>\n",
              "      <td>-0.018719</td>\n",
              "      <td>203697.000000</td>\n",
              "    </tr>\n",
              "    <tr>\n",
              "      <th>2021-01-17</th>\n",
              "      <td>194236.0</td>\n",
              "      <td>196869.0</td>\n",
              "      <td>185000.0</td>\n",
              "      <td>191912.0</td>\n",
              "      <td>-0.012138</td>\n",
              "      <td>200252.222222</td>\n",
              "    </tr>\n",
              "    <tr>\n",
              "      <th>2021-01-18</th>\n",
              "      <td>191912.0</td>\n",
              "      <td>198600.0</td>\n",
              "      <td>186819.0</td>\n",
              "      <td>194756.0</td>\n",
              "      <td>0.014819</td>\n",
              "      <td>197379.333333</td>\n",
              "    </tr>\n",
              "    <tr>\n",
              "      <th>2021-01-19</th>\n",
              "      <td>194691.0</td>\n",
              "      <td>201000.0</td>\n",
              "      <td>193021.0</td>\n",
              "      <td>193900.0</td>\n",
              "      <td>-0.004395</td>\n",
              "      <td>195658.222222</td>\n",
              "    </tr>\n",
              "    <tr>\n",
              "      <th>2021-01-20</th>\n",
              "      <td>193797.0</td>\n",
              "      <td>196125.0</td>\n",
              "      <td>180000.0</td>\n",
              "      <td>189367.0</td>\n",
              "      <td>-0.023378</td>\n",
              "      <td>194585.666667</td>\n",
              "    </tr>\n",
              "  </tbody>\n",
              "</table>\n",
              "</div>\n",
              "      <button class=\"colab-df-convert\" onclick=\"convertToInteractive('df-c8a45cb3-a94c-45b7-be34-70527e5b6f0b')\"\n",
              "              title=\"Convert this dataframe to an interactive table.\"\n",
              "              style=\"display:none;\">\n",
              "        \n",
              "  <svg xmlns=\"http://www.w3.org/2000/svg\" height=\"24px\"viewBox=\"0 0 24 24\"\n",
              "       width=\"24px\">\n",
              "    <path d=\"M0 0h24v24H0V0z\" fill=\"none\"/>\n",
              "    <path d=\"M18.56 5.44l.94 2.06.94-2.06 2.06-.94-2.06-.94-.94-2.06-.94 2.06-2.06.94zm-11 1L8.5 8.5l.94-2.06 2.06-.94-2.06-.94L8.5 2.5l-.94 2.06-2.06.94zm10 10l.94 2.06.94-2.06 2.06-.94-2.06-.94-.94-2.06-.94 2.06-2.06.94z\"/><path d=\"M17.41 7.96l-1.37-1.37c-.4-.4-.92-.59-1.43-.59-.52 0-1.04.2-1.43.59L10.3 9.45l-7.72 7.72c-.78.78-.78 2.05 0 2.83L4 21.41c.39.39.9.59 1.41.59.51 0 1.02-.2 1.41-.59l7.78-7.78 2.81-2.81c.8-.78.8-2.07 0-2.86zM5.41 20L4 18.59l7.72-7.72 1.47 1.35L5.41 20z\"/>\n",
              "  </svg>\n",
              "      </button>\n",
              "      \n",
              "  <style>\n",
              "    .colab-df-container {\n",
              "      display:flex;\n",
              "      flex-wrap:wrap;\n",
              "      gap: 12px;\n",
              "    }\n",
              "\n",
              "    .colab-df-convert {\n",
              "      background-color: #E8F0FE;\n",
              "      border: none;\n",
              "      border-radius: 50%;\n",
              "      cursor: pointer;\n",
              "      display: none;\n",
              "      fill: #1967D2;\n",
              "      height: 32px;\n",
              "      padding: 0 0 0 0;\n",
              "      width: 32px;\n",
              "    }\n",
              "\n",
              "    .colab-df-convert:hover {\n",
              "      background-color: #E2EBFA;\n",
              "      box-shadow: 0px 1px 2px rgba(60, 64, 67, 0.3), 0px 1px 3px 1px rgba(60, 64, 67, 0.15);\n",
              "      fill: #174EA6;\n",
              "    }\n",
              "\n",
              "    [theme=dark] .colab-df-convert {\n",
              "      background-color: #3B4455;\n",
              "      fill: #D2E3FC;\n",
              "    }\n",
              "\n",
              "    [theme=dark] .colab-df-convert:hover {\n",
              "      background-color: #434B5C;\n",
              "      box-shadow: 0px 1px 3px 1px rgba(0, 0, 0, 0.15);\n",
              "      filter: drop-shadow(0px 1px 2px rgba(0, 0, 0, 0.3));\n",
              "      fill: #FFFFFF;\n",
              "    }\n",
              "  </style>\n",
              "\n",
              "      <script>\n",
              "        const buttonEl =\n",
              "          document.querySelector('#df-c8a45cb3-a94c-45b7-be34-70527e5b6f0b button.colab-df-convert');\n",
              "        buttonEl.style.display =\n",
              "          google.colab.kernel.accessAllowed ? 'block' : 'none';\n",
              "\n",
              "        async function convertToInteractive(key) {\n",
              "          const element = document.querySelector('#df-c8a45cb3-a94c-45b7-be34-70527e5b6f0b');\n",
              "          const dataTable =\n",
              "            await google.colab.kernel.invokeFunction('convertToInteractive',\n",
              "                                                     [key], {});\n",
              "          if (!dataTable) return;\n",
              "\n",
              "          const docLinkHtml = 'Like what you see? Visit the ' +\n",
              "            '<a target=\"_blank\" href=https://colab.research.google.com/notebooks/data_table.ipynb>data table notebook</a>'\n",
              "            + ' to learn more about interactive tables.';\n",
              "          element.innerHTML = '';\n",
              "          dataTable['output_type'] = 'display_data';\n",
              "          await google.colab.output.renderOutput(dataTable, element);\n",
              "          const docLink = document.createElement('div');\n",
              "          docLink.innerHTML = docLinkHtml;\n",
              "          element.appendChild(docLink);\n",
              "        }\n",
              "      </script>\n",
              "    </div>\n",
              "  </div>\n",
              "  "
            ],
            "text/plain": [
              "                open      high       low     close  retornos            MMA\n",
              "date                                                                       \n",
              "2021-01-01  152056.0  154167.0  150911.0  153480.0       NaN            NaN\n",
              "2021-01-02  153478.0  173900.0  152171.0  168784.0  0.099713            NaN\n",
              "2021-01-03  168885.0  180925.0  167897.0  173503.0  0.027959            NaN\n",
              "2021-01-04  173504.0  175981.0  150000.0  169820.0 -0.021227            NaN\n",
              "2021-01-05  169825.0  182966.0  159769.0  179972.0  0.059781            NaN\n",
              "2021-01-06  179990.0  197555.0  177210.0  196635.0  0.092587            NaN\n",
              "2021-01-07  196752.0  222813.0  194600.0  215874.0  0.097841            NaN\n",
              "2021-01-08  216160.0  228045.0  200150.0  222915.0  0.032616            NaN\n",
              "2021-01-09  223113.0  225333.0  213593.0  220612.0 -0.010331  189066.111111\n",
              "2021-01-10  220504.0  224900.0  188500.0  209390.0 -0.050868  195278.333333\n",
              "2021-01-11  209415.0  209822.0  168112.0  199020.0 -0.049525  198637.888889\n",
              "2021-01-12  199160.0  203999.0  180375.0  184137.0 -0.074781  199819.444444\n",
              "2021-01-13  183868.0  200600.0  177000.0  198819.0  0.079734  203041.555556\n",
              "2021-01-14  198827.0  211899.0  196299.0  206134.0  0.036792  205948.444444\n",
              "2021-01-15  205900.0  207684.0  184563.0  197976.0 -0.039576  206097.444444\n",
              "2021-01-16  197757.0  202124.0  190633.0  194270.0 -0.018719  203697.000000\n",
              "2021-01-17  194236.0  196869.0  185000.0  191912.0 -0.012138  200252.222222\n",
              "2021-01-18  191912.0  198600.0  186819.0  194756.0  0.014819  197379.333333\n",
              "2021-01-19  194691.0  201000.0  193021.0  193900.0 -0.004395  195658.222222\n",
              "2021-01-20  193797.0  196125.0  180000.0  189367.0 -0.023378  194585.666667"
            ]
          },
          "execution_count": 35,
          "metadata": {},
          "output_type": "execute_result"
        }
      ],
      "source": [
        "btc_brl['MMA'] = MMA\n",
        "btc_brl.head(20)"
      ]
    },
    {
      "cell_type": "code",
      "execution_count": 37,
      "metadata": {
        "colab": {
          "base_uri": "https://localhost:8080/",
          "height": 517
        },
        "id": "DbiRPXGRFNWO",
        "outputId": "aef440d5-cb4c-4315-f259-8bf87f199f41"
      },
      "outputs": [
        {
          "data": {
            "text/html": [
              "<html>\n",
              "<head><meta charset=\"utf-8\" /></head>\n",
              "<body>\n",
              "    <div>            <script src=\"https://cdnjs.cloudflare.com/ajax/libs/mathjax/2.7.5/MathJax.js?config=TeX-AMS-MML_SVG\"></script><script type=\"text/javascript\">if (window.MathJax) {MathJax.Hub.Config({SVG: {font: \"STIX-Web\"}});}</script>                <script type=\"text/javascript\">window.PlotlyConfig = {MathJaxConfig: 'local'};</script>\n",
              "        <script src=\"https://cdn.plot.ly/plotly-2.8.3.min.js\"></script>                <div id=\"ef3daf62-74c7-4ab6-a179-9e78b9230f75\" class=\"plotly-graph-div\" style=\"height:500px; width:1000px;\"></div>            <script type=\"text/javascript\">                                    window.PLOTLYENV=window.PLOTLYENV || {};                                    if (document.getElementById(\"ef3daf62-74c7-4ab6-a179-9e78b9230f75\")) {                    Plotly.newPlot(                        \"ef3daf62-74c7-4ab6-a179-9e78b9230f75\",                        [{\"close\":[153480.0,168784.0,173503.0,169820.0,179972.0,196635.0,215874.0,222915.0,220612.0,209390.0,199020.0,184137.0,198819.0,206134.0,197976.0,194270.0,191912.0,194756.0,193900.0,189367.0,167696.0,181268.0,177319.0,177459.0,178696.0,175525.0,166567.0,182044.0,188300.0,187447.0,182546.0,184276.0,191540.0,202664.0,202021.0,207490.0,212614.0,212059.0,247248.0,252512.0,243942.0,260123.0,257596.0,257291.0,265498.0,262025.0,266875.0,285619.0,283927.0,305400.0,308019.0,316779.0,301195.0,271544.0,273459.0,265018.0,262320.0,263083.0,257551.0,281400.0,277000.0,285401.0,277237.0,279491.0,279999.0,288621.0,303500.0,318596.0,319982.0,322079.0,320848.0,343198.0,333982.0,317705.0,322326.0,330772.0,324342.0,323267.0,323803.0,321000.0,303155.0,304195.0,299572.0,293437.0,318579.0,321764.0,321039.0,332768.0,339500.0,334425.0,338489.0,339647.0,332818.0,337412.0,337447.0,328657.0,317936.0,327494.0,332449.0,341636.0,343221.0,345499.0,368798.0,361475.0,360685.0,349112.0,343258.0,320463.0,314308.0,319262.0,303722.0,286001.0,283903.0,278172.0,272145.0,295796.0,302507.0,295530.0,288639.0,315831.0,317708.0,310752.0,314465.0,294299.0,310649.0,301380.0,304129.0,312688.0,308443.0,297094.0,298153.0,266397.0,265831.0,265024.0,250274.0,247882.0,232013.0,228075.0,199700.0,217806.0,203146.0,204085.0,189677.0,208850.0,206100.0,210331.0,203358.0,188503.0,182653.0,188236.0,195402.0,190204.0,192089.0,199400.0,186966.0,181242.0,182214.0,171582.0,169876.0,190945.0,187247.0,192579.0,183577.0,199441.0,206897.0,204046.0,195671.0,191955.0,184153.0,183116.0,183349.0,160917.0,163318.0,169169.0,172029.0,158467.0,161319.0,171951.0,171235.0,178712.0,175718.0,170342.0,171592.0,176000.0,178929.0,173709.0,178403.0,178592.0,174997.0,179000.0,178035.0,180738.0,173071.0,170930.0,168250.0,164500.0,162672.0,163000.0,164442.0,163056.0,156869.0,168499.0,169857.0,175898.0,179300.0,184267.0,194340.0,205349.0,206500.0,204388.0,219921.0,216022.0,207840.0,204221.0,200032.0,206982.0,214203.0,224694.0,234452.0,230842.0,243655.0,238425.0,240500.0,235236.0,252204.0,248774.0,248054.0,243500.0,239281.0,241900.0,252589.0,266328.0,265440.0,266483.0,269037.0,253289.0,258017.0,249027.0,256268.0,256341.0,254763.0,246258.0,245700.0,253500.0,256800.0,260731.0,260994.0,269300.0,274554.0,248500.0,245441.0,244926.0,238614.0,240151.0,244300.0,235304.0,248164.0,252533.0,252513.0,252194.0,256800.0,251219.0,231134.0,216687.0,233091.0,239541.0,230666.0,230414.0,232507.0,228403.0,224191.0,227361.0,238201.0,258066.0,255985.0,258376.0,267531.0,282548.0,303990.0,297065.0,299624.0,304002.0,303972.0,320757.0,313011.0,318883.0,319255.0,339885.0,335905.0,339195.0,343483.0,359206.0,369749.0,352647.0,344913.0,348457.0,346194.0,353634.0,339252.0,328916.0,344778.0,354800.0,352560.0,349930.0,349086.0,360415.0,353906.0,348246.0,342868.0,345692.0,355023.0,376520.0,372048.0,362513.0,355541.0,354471.0,356600.0,361606.0,352446.0,335535.0,337047.0,321252.0,329119.0,339084.0,333811.0,319150.0,326041.0,324470.0,333410.0,305653.0,311503.0,324906.0,327891.0,323454.0,327616.0,322296.0,307857.0,283560.0,283748.0,290056.0,285478.0,283060.0,269257.0,267382.0,279662.0,283523.0,267626.0,276474.0,279309.0,273406.0,262968.0,267452.0,267103.0,268895.0,280520.0,277147.0,289531.0,290144.0,288356.0,290188.0,288378.0,270226.0,266975.0,265750.0,260593.0,268897.0,266630.0,264513.0,261969.0,250564.0,247430.0,236447.0,237640.0,238510.0,238772.0,240702.0,245374.0,237804.0,240222.0,240790.0,240932.0,235095.0,237617.0,229302.0,223103.0,201243.0,193970.0,200332.0,203538.0,203603.0,202294.0,202883.0,204459.0,207129.0,205989.0,205563.0,205436.0,196119.0,198700.0,222532.0,222535.0,227416.0,232633.0,233556.0],\"high\":[154167.0,173900.0,180925.0,175981.0,182966.0,197555.0,222813.0,228045.0,225333.0,224900.0,209822.0,203999.0,200600.0,211899.0,207684.0,202124.0,196869.0,198600.0,201000.0,196125.0,189908.0,186000.0,183206.0,181483.0,191348.0,181498.0,175774.0,184200.0,207632.0,191806.0,188000.0,189700.0,193917.0,202713.0,207506.0,208080.0,222621.0,215000.0,249212.0,257171.0,255200.0,263199.0,264524.0,260300.0,269000.0,267145.0,274453.0,286973.0,287642.0,306999.0,315000.0,319000.0,317206.0,302000.0,285708.0,284736.0,271690.0,271690.0,265600.0,282000.0,284121.0,299600.0,293100.0,283451.0,282000.0,291899.0,303500.0,319500.0,327886.0,323750.0,323600.0,346263.0,345300.0,344150.0,322436.0,331244.0,335000.0,330573.0,331000.0,326996.0,325549.0,310000.0,318778.0,302978.0,318604.0,325000.0,324346.0,337900.0,341768.0,343806.0,339779.0,344298.0,342116.0,338597.0,339093.0,339654.0,331200.0,327796.0,335000.0,346671.0,345200.0,347864.0,368968.0,375418.0,364000.0,363477.0,355000.0,345000.0,327863.0,322000.0,320474.0,309621.0,287109.0,284302.0,280500.0,298888.0,304889.0,306164.0,297700.0,316913.0,320715.0,318200.0,322503.0,314776.0,314452.0,313365.0,308376.0,314797.0,313975.0,314329.0,300500.0,304200.0,273760.0,274191.0,269262.0,263960.0,248999.0,243851.0,231584.0,231400.0,226213.0,211270.0,208091.0,214291.0,214093.0,217617.0,215500.0,205598.0,196773.0,192127.0,196776.0,198465.0,195717.0,199400.0,199588.0,191000.0,185306.0,187260.0,173876.0,191791.0,195901.0,193590.0,193500.0,201240.0,210000.0,209898.0,205794.0,201595.0,193197.0,187461.0,186220.0,184000.0,169364.0,177000.0,174099.0,175799.0,163250.0,172443.0,174804.0,181500.0,179888.0,175956.0,172828.0,177065.0,182114.0,178927.0,179000.0,183554.0,178983.0,181000.0,181338.0,182768.0,182877.0,174128.0,171318.0,169887.0,165646.0,165230.0,167346.0,164707.0,163997.0,171850.0,170895.0,176053.0,179999.0,184351.0,210000.0,205728.0,211600.0,209540.0,220513.0,220800.0,220850.0,210481.0,206938.0,208797.0,216025.0,226448.0,235106.0,238221.0,245200.0,245386.0,245449.0,243796.0,252498.0,253173.0,250349.0,252963.0,249294.0,246890.0,253320.0,266468.0,268999.0,267972.0,272741.0,270575.0,259475.0,259797.0,256427.0,257143.0,259969.0,255839.0,251597.0,254560.0,261448.0,265000.0,263000.0,270881.0,275000.0,276261.0,250499.0,250989.0,247500.0,244490.0,246400.0,247249.0,248980.0,255240.0,254649.0,254375.0,258818.0,257316.0,251621.0,234426.0,233900.0,240310.0,242266.0,231457.0,236413.0,237747.0,231480.0,231450.0,240138.0,260064.0,258398.0,263000.0,269000.0,284589.0,305999.0,303981.0,307310.0,306480.0,312200.0,322333.0,321221.0,321368.0,323501.0,345168.0,343000.0,339904.0,346415.0,360005.0,373000.0,371867.0,363756.0,351244.0,349422.0,359124.0,355000.0,344895.0,353296.0,357829.0,355381.0,355072.0,354936.0,367000.0,362179.0,354953.0,354452.0,346195.0,355071.0,379794.0,380870.0,379772.0,366000.0,358779.0,359460.0,361716.0,364991.0,352668.0,339998.0,340681.0,329492.0,339783.0,341113.0,334500.0,328734.0,326893.0,335499.0,334600.0,314900.0,325711.0,332952.0,333432.0,334395.0,327998.0,326999.0,309146.0,286900.0,292518.0,296305.0,288499.0,284663.0,281617.0,283000.0,287223.0,284312.0,278461.0,283949.0,283007.0,275335.0,269499.0,274769.0,272556.0,283214.0,283946.0,292132.0,296137.0,292315.0,292796.0,295785.0,288339.0,274941.0,280000.0,273059.0,270044.0,270307.0,268100.0,269269.0,268206.0,252796.0,247585.0,241179.0,243795.0,240300.0,243362.0,247383.0,247199.0,242299.0,244366.0,242845.0,241389.0,238888.0,238180.0,237185.0,225329.0,203091.0,201500.0,208700.0,206500.0,211900.0,203865.0,205952.0,210005.0,208000.0,206903.0,208687.0,206301.0,199034.0,223558.0,225100.0,228855.0,236600.0,241181.0],\"low\":[150911.0,152171.0,167897.0,150000.0,159769.0,177210.0,194600.0,200150.0,213593.0,188500.0,168112.0,180375.0,177000.0,196299.0,184563.0,190633.0,185000.0,186819.0,193021.0,180000.0,163651.0,155000.0,174000.0,171438.0,176000.0,169128.0,160001.0,164285.0,173607.0,181202.0,178908.0,179057.0,183340.0,191120.0,197471.0,200183.0,206850.0,203977.0,207446.0,242236.0,238385.0,240000.0,252022.0,253045.0,256376.0,253500.0,258430.0,266000.0,279435.0,280500.0,298131.0,305913.0,265400.0,254000.0,262101.0,262651.0,251000.0,257000.0,246517.0,256447.0,269332.0,275353.0,271140.0,266390.0,271285.0,279950.0,280970.0,300665.0,308500.0,312142.0,310245.0,317000.0,333861.0,313000.0,305262.0,309832.0,320405.0,317871.0,322200.0,313100.0,301502.0,296252.0,295002.0,288502.0,293200.0,312901.0,316009.0,316296.0,330323.0,330100.0,330407.0,336568.0,331500.0,328095.0,330128.0,326313.0,315265.0,316542.0,324147.0,332125.0,337265.0,340000.0,345166.0,352785.0,355105.0,345000.0,341915.0,297000.0,306869.0,301002.0,302888.0,277232.0,264289.0,270701.0,261397.0,270921.0,291617.0,292129.0,282716.0,286005.0,313480.0,307401.0,310360.0,292504.0,292892.0,295887.0,296000.0,302290.0,300542.0,286284.0,290561.0,262158.0,249000.0,260711.0,249001.0,234758.0,223455.0,225301.0,162999.0,192047.0,185270.0,192222.0,173177.0,188008.0,196358.0,203047.0,199414.0,183471.0,178186.0,176727.0,180282.0,185571.0,186249.0,190501.0,182624.0,177778.0,179429.0,170495.0,157802.0,164745.0,183364.0,183629.0,179111.0,179900.0,197768.0,201388.0,194032.0,189665.0,179674.0,179346.0,172850.0,159301.0,145000.0,159510.0,162400.0,156801.0,151151.0,160059.0,168181.0,169900.0,171336.0,166100.0,166500.0,169501.0,174681.0,169000.0,172663.0,177020.0,170765.0,172001.0,175810.0,177063.0,171000.0,168436.0,165079.0,160733.0,160408.0,161411.0,161200.0,159400.0,155062.0,155374.0,165714.0,166883.0,173893.0,173501.0,183365.0,189590.0,202364.0,201338.0,196501.0,213834.0,206531.0,202092.0,197379.0,196700.0,194836.0,209286.0,223389.0,228300.0,225038.0,234373.0,237853.0,231004.0,233821.0,244000.0,241636.0,242626.0,237093.0,236712.0,238701.0,251609.0,260600.0,261685.0,265743.0,253000.0,250397.0,244896.0,246399.0,252916.0,250593.0,245998.0,243590.0,242717.0,252317.0,252293.0,258363.0,258800.0,265701.0,230221.0,233734.0,243000.0,235457.0,237834.0,238218.0,230001.0,233862.0,245854.0,248567.0,249393.0,251234.0,249355.0,229000.0,211574.0,215948.0,230569.0,219251.0,224727.0,220457.0,228201.0,223801.0,223094.0,226727.0,235043.0,253901.0,252687.0,253900.0,266615.0,276249.0,293900.0,295843.0,298501.0,300568.0,302735.0,302150.0,303969.0,316078.0,317850.0,332354.0,326400.0,332452.0,341788.0,355290.0,351200.0,341797.0,340000.0,339899.0,345289.0,337659.0,328500.0,326742.0,342593.0,347547.0,343169.0,340186.0,347521.0,343901.0,343001.0,339218.0,337858.0,345002.0,355024.0,366397.0,355500.0,354639.0,342546.0,350839.0,352250.0,351706.0,328580.0,327052.0,317695.0,314003.0,326767.0,332659.0,315612.0,314000.0,316400.0,323806.0,280000.0,304908.0,304334.0,320564.0,316672.0,320825.0,318225.0,298560.0,246101.0,274820.0,270949.0,282399.0,276054.0,267310.0,266193.0,265000.0,275800.0,261784.0,265000.0,267562.0,272432.0,260000.0,259301.0,261000.0,261100.0,267501.0,276870.0,274000.0,288732.0,286977.0,283013.0,287534.0,269171.0,264773.0,263500.0,257721.0,260544.0,263260.0,260258.0,260213.0,246591.0,245377.0,232300.0,231269.0,235000.0,227000.0,234498.0,239101.0,236500.0,232793.0,237882.0,238254.0,231579.0,229930.0,228535.0,222480.0,196207.0,187636.0,191320.0,182280.0,198341.0,199408.0,193790.0,196853.0,202874.0,203110.0,199360.0,203001.0,194650.0,192998.0,197412.0,220132.0,220900.0,223196.0,226543.0],\"name\":\"Bitcoin_BRL\",\"open\":[152056.0,153478.0,168885.0,173504.0,169825.0,179990.0,196752.0,216160.0,223113.0,220504.0,209415.0,199160.0,183868.0,198827.0,205900.0,197757.0,194236.0,191912.0,194691.0,193797.0,189203.0,167340.0,181219.0,177289.0,177621.0,178570.0,175669.0,166425.0,182181.0,188300.0,187500.0,182546.0,184149.0,191535.0,202509.0,201874.0,207499.0,212614.0,211841.0,247031.0,252510.0,243885.0,260654.0,257373.0,257245.0,265511.0,261933.0,267097.0,285648.0,283925.0,305400.0,308031.0,316762.0,301812.0,271544.0,273577.0,264501.0,262267.0,263099.0,257538.0,281490.0,277000.0,285401.0,277237.0,279696.0,280000.0,289458.0,303500.0,318210.0,319982.0,322300.0,320847.0,343470.0,333880.0,317383.0,322222.0,330772.0,324342.0,323256.0,323700.0,321000.0,303155.0,304193.0,299563.0,293860.0,318575.0,321637.0,321242.0,332501.0,339499.0,334670.0,338489.0,339647.0,332809.0,337418.0,337485.0,328655.0,317738.0,327494.0,332461.0,341921.0,343498.0,345488.0,368798.0,361587.0,360739.0,349112.0,343312.0,320400.0,314308.0,319262.0,303721.0,286145.0,283902.0,278165.0,272145.0,295796.0,302506.0,295713.0,288682.0,315934.0,317769.0,310692.0,314402.0,294000.0,310650.0,301380.0,304129.0,312645.0,308374.0,297094.0,298346.0,266495.0,265830.0,265258.0,250173.0,247908.0,232070.0,228077.0,200044.0,217983.0,203422.0,204168.0,189856.0,208965.0,206292.0,210262.0,203773.0,188618.0,182731.0,188278.0,195447.0,190202.0,192098.0,199411.0,187216.0,181242.0,182423.0,171546.0,170023.0,191000.0,187248.0,192799.0,183497.0,199698.0,206887.0,204044.0,195669.0,192143.0,183892.0,183146.0,183327.0,160890.0,163333.0,169234.0,172028.0,158466.0,161376.0,172000.0,171226.0,178800.0,175851.0,170280.0,171700.0,175849.0,178927.0,173882.0,178391.0,178591.0,175000.0,179000.0,178033.0,180838.0,173146.0,170930.0,168248.0,164666.0,162704.0,163115.0,164443.0,163054.0,156910.0,168500.0,170010.0,176041.0,179307.0,184128.0,194588.0,205557.0,206832.0,204489.0,220202.0,216336.0,208015.0,204198.0,200087.0,207081.0,214298.0,224734.0,234452.0,230898.0,243655.0,238547.0,240401.0,235379.0,252152.0,248986.0,248114.0,243501.0,238868.0,242000.0,252247.0,266399.0,265074.0,266507.0,268999.0,253287.0,257948.0,248834.0,256321.0,256378.0,254963.0,246375.0,245634.0,253500.0,256924.0,260745.0,260902.0,269300.0,274548.0,248498.0,245436.0,244674.0,238798.0,240278.0,244343.0,235302.0,248132.0,252524.0,252513.0,252198.0,256698.0,251246.0,230907.0,216822.0,233091.0,239446.0,230642.0,230400.0,232437.0,228526.0,224358.0,227323.0,238397.0,258064.0,255863.0,258067.0,267582.0,282333.0,303981.0,297237.0,299856.0,304004.0,304045.0,320757.0,312989.0,318717.0,319255.0,339936.0,336052.0,339168.0,343456.0,359177.0,369649.0,352662.0,345006.0,348495.0,346316.0,353634.0,339371.0,329076.0,344767.0,354855.0,352577.0,349925.0,349259.0,360526.0,354043.0,348246.0,342834.0,345710.0,355024.0,376581.0,372043.0,362472.0,355540.0,354489.0,356644.0,361700.0,352446.0,335435.0,337045.0,321252.0,329169.0,339138.0,333735.0,319149.0,326243.0,324601.0,333500.0,305419.0,311447.0,324920.0,327714.0,323561.0,327616.0,322329.0,307712.0,283443.0,283675.0,290170.0,285741.0,283308.0,269098.0,267706.0,279639.0,283587.0,267644.0,276342.0,279294.0,273412.0,262968.0,267453.0,267093.0,269052.0,280500.0,277024.0,289592.0,290259.0,288492.0,290189.0,288339.0,270357.0,266975.0,265634.0,260570.0,268897.0,266571.0,264505.0,261954.0,250564.0,247419.0,236394.0,237742.0,238357.0,238815.0,240816.0,245191.0,237768.0,240200.0,240787.0,240930.0,235087.0,237451.0,229379.0,223067.0,200955.0,193997.0,200297.0,203344.0,203796.0,202452.0,202818.0,204447.0,207053.0,205980.0,205380.0,205495.0,196078.0,198920.0,222700.0,222387.0,227468.0,232851.0],\"showlegend\":true,\"x\":[\"2021-01-01T00:00:00\",\"2021-01-02T00:00:00\",\"2021-01-03T00:00:00\",\"2021-01-04T00:00:00\",\"2021-01-05T00:00:00\",\"2021-01-06T00:00:00\",\"2021-01-07T00:00:00\",\"2021-01-08T00:00:00\",\"2021-01-09T00:00:00\",\"2021-01-10T00:00:00\",\"2021-01-11T00:00:00\",\"2021-01-12T00:00:00\",\"2021-01-13T00:00:00\",\"2021-01-14T00:00:00\",\"2021-01-15T00:00:00\",\"2021-01-16T00:00:00\",\"2021-01-17T00:00:00\",\"2021-01-18T00:00:00\",\"2021-01-19T00:00:00\",\"2021-01-20T00:00:00\",\"2021-01-21T00:00:00\",\"2021-01-22T00:00:00\",\"2021-01-23T00:00:00\",\"2021-01-24T00:00:00\",\"2021-01-25T00:00:00\",\"2021-01-26T00:00:00\",\"2021-01-27T00:00:00\",\"2021-01-28T00:00:00\",\"2021-01-29T00:00:00\",\"2021-01-30T00:00:00\",\"2021-01-31T00:00:00\",\"2021-02-01T00:00:00\",\"2021-02-02T00:00:00\",\"2021-02-03T00:00:00\",\"2021-02-04T00:00:00\",\"2021-02-05T00:00:00\",\"2021-02-06T00:00:00\",\"2021-02-07T00:00:00\",\"2021-02-08T00:00:00\",\"2021-02-09T00:00:00\",\"2021-02-10T00:00:00\",\"2021-02-11T00:00:00\",\"2021-02-12T00:00:00\",\"2021-02-13T00:00:00\",\"2021-02-14T00:00:00\",\"2021-02-15T00:00:00\",\"2021-02-16T00:00:00\",\"2021-02-17T00:00:00\",\"2021-02-18T00:00:00\",\"2021-02-19T00:00:00\",\"2021-02-20T00:00:00\",\"2021-02-21T00:00:00\",\"2021-02-22T00:00:00\",\"2021-02-23T00:00:00\",\"2021-02-24T00:00:00\",\"2021-02-25T00:00:00\",\"2021-02-26T00:00:00\",\"2021-02-27T00:00:00\",\"2021-02-28T00:00:00\",\"2021-03-01T00:00:00\",\"2021-03-02T00:00:00\",\"2021-03-03T00:00:00\",\"2021-03-04T00:00:00\",\"2021-03-05T00:00:00\",\"2021-03-06T00:00:00\",\"2021-03-07T00:00:00\",\"2021-03-08T00:00:00\",\"2021-03-09T00:00:00\",\"2021-03-10T00:00:00\",\"2021-03-11T00:00:00\",\"2021-03-12T00:00:00\",\"2021-03-13T00:00:00\",\"2021-03-14T00:00:00\",\"2021-03-15T00:00:00\",\"2021-03-16T00:00:00\",\"2021-03-17T00:00:00\",\"2021-03-18T00:00:00\",\"2021-03-19T00:00:00\",\"2021-03-20T00:00:00\",\"2021-03-21T00:00:00\",\"2021-03-22T00:00:00\",\"2021-03-23T00:00:00\",\"2021-03-24T00:00:00\",\"2021-03-25T00:00:00\",\"2021-03-26T00:00:00\",\"2021-03-27T00:00:00\",\"2021-03-28T00:00:00\",\"2021-03-29T00:00:00\",\"2021-03-30T00:00:00\",\"2021-03-31T00:00:00\",\"2021-04-01T00:00:00\",\"2021-04-02T00:00:00\",\"2021-04-03T00:00:00\",\"2021-04-04T00:00:00\",\"2021-04-05T00:00:00\",\"2021-04-06T00:00:00\",\"2021-04-07T00:00:00\",\"2021-04-08T00:00:00\",\"2021-04-09T00:00:00\",\"2021-04-10T00:00:00\",\"2021-04-11T00:00:00\",\"2021-04-12T00:00:00\",\"2021-04-13T00:00:00\",\"2021-04-14T00:00:00\",\"2021-04-15T00:00:00\",\"2021-04-16T00:00:00\",\"2021-04-17T00:00:00\",\"2021-04-18T00:00:00\",\"2021-04-19T00:00:00\",\"2021-04-20T00:00:00\",\"2021-04-21T00:00:00\",\"2021-04-22T00:00:00\",\"2021-04-23T00:00:00\",\"2021-04-24T00:00:00\",\"2021-04-25T00:00:00\",\"2021-04-26T00:00:00\",\"2021-04-27T00:00:00\",\"2021-04-28T00:00:00\",\"2021-04-29T00:00:00\",\"2021-04-30T00:00:00\",\"2021-05-01T00:00:00\",\"2021-05-02T00:00:00\",\"2021-05-03T00:00:00\",\"2021-05-04T00:00:00\",\"2021-05-05T00:00:00\",\"2021-05-06T00:00:00\",\"2021-05-07T00:00:00\",\"2021-05-08T00:00:00\",\"2021-05-09T00:00:00\",\"2021-05-10T00:00:00\",\"2021-05-11T00:00:00\",\"2021-05-12T00:00:00\",\"2021-05-13T00:00:00\",\"2021-05-14T00:00:00\",\"2021-05-15T00:00:00\",\"2021-05-16T00:00:00\",\"2021-05-17T00:00:00\",\"2021-05-18T00:00:00\",\"2021-05-19T00:00:00\",\"2021-05-20T00:00:00\",\"2021-05-21T00:00:00\",\"2021-05-22T00:00:00\",\"2021-05-23T00:00:00\",\"2021-05-24T00:00:00\",\"2021-05-25T00:00:00\",\"2021-05-26T00:00:00\",\"2021-05-27T00:00:00\",\"2021-05-28T00:00:00\",\"2021-05-29T00:00:00\",\"2021-05-30T00:00:00\",\"2021-05-31T00:00:00\",\"2021-06-01T00:00:00\",\"2021-06-02T00:00:00\",\"2021-06-03T00:00:00\",\"2021-06-04T00:00:00\",\"2021-06-05T00:00:00\",\"2021-06-06T00:00:00\",\"2021-06-07T00:00:00\",\"2021-06-08T00:00:00\",\"2021-06-09T00:00:00\",\"2021-06-10T00:00:00\",\"2021-06-11T00:00:00\",\"2021-06-12T00:00:00\",\"2021-06-13T00:00:00\",\"2021-06-14T00:00:00\",\"2021-06-15T00:00:00\",\"2021-06-16T00:00:00\",\"2021-06-17T00:00:00\",\"2021-06-18T00:00:00\",\"2021-06-19T00:00:00\",\"2021-06-20T00:00:00\",\"2021-06-21T00:00:00\",\"2021-06-22T00:00:00\",\"2021-06-23T00:00:00\",\"2021-06-24T00:00:00\",\"2021-06-25T00:00:00\",\"2021-06-26T00:00:00\",\"2021-06-27T00:00:00\",\"2021-06-28T00:00:00\",\"2021-06-29T00:00:00\",\"2021-06-30T00:00:00\",\"2021-07-01T00:00:00\",\"2021-07-02T00:00:00\",\"2021-07-03T00:00:00\",\"2021-07-04T00:00:00\",\"2021-07-05T00:00:00\",\"2021-07-06T00:00:00\",\"2021-07-07T00:00:00\",\"2021-07-08T00:00:00\",\"2021-07-09T00:00:00\",\"2021-07-10T00:00:00\",\"2021-07-11T00:00:00\",\"2021-07-12T00:00:00\",\"2021-07-13T00:00:00\",\"2021-07-14T00:00:00\",\"2021-07-15T00:00:00\",\"2021-07-16T00:00:00\",\"2021-07-17T00:00:00\",\"2021-07-18T00:00:00\",\"2021-07-19T00:00:00\",\"2021-07-20T00:00:00\",\"2021-07-21T00:00:00\",\"2021-07-22T00:00:00\",\"2021-07-23T00:00:00\",\"2021-07-24T00:00:00\",\"2021-07-25T00:00:00\",\"2021-07-26T00:00:00\",\"2021-07-27T00:00:00\",\"2021-07-28T00:00:00\",\"2021-07-29T00:00:00\",\"2021-07-30T00:00:00\",\"2021-07-31T00:00:00\",\"2021-08-01T00:00:00\",\"2021-08-02T00:00:00\",\"2021-08-03T00:00:00\",\"2021-08-04T00:00:00\",\"2021-08-05T00:00:00\",\"2021-08-06T00:00:00\",\"2021-08-07T00:00:00\",\"2021-08-08T00:00:00\",\"2021-08-09T00:00:00\",\"2021-08-10T00:00:00\",\"2021-08-11T00:00:00\",\"2021-08-12T00:00:00\",\"2021-08-13T00:00:00\",\"2021-08-14T00:00:00\",\"2021-08-15T00:00:00\",\"2021-08-16T00:00:00\",\"2021-08-17T00:00:00\",\"2021-08-18T00:00:00\",\"2021-08-19T00:00:00\",\"2021-08-20T00:00:00\",\"2021-08-21T00:00:00\",\"2021-08-22T00:00:00\",\"2021-08-23T00:00:00\",\"2021-08-24T00:00:00\",\"2021-08-25T00:00:00\",\"2021-08-26T00:00:00\",\"2021-08-27T00:00:00\",\"2021-08-28T00:00:00\",\"2021-08-29T00:00:00\",\"2021-08-30T00:00:00\",\"2021-08-31T00:00:00\",\"2021-09-01T00:00:00\",\"2021-09-02T00:00:00\",\"2021-09-03T00:00:00\",\"2021-09-04T00:00:00\",\"2021-09-05T00:00:00\",\"2021-09-06T00:00:00\",\"2021-09-07T00:00:00\",\"2021-09-08T00:00:00\",\"2021-09-09T00:00:00\",\"2021-09-10T00:00:00\",\"2021-09-11T00:00:00\",\"2021-09-12T00:00:00\",\"2021-09-13T00:00:00\",\"2021-09-14T00:00:00\",\"2021-09-15T00:00:00\",\"2021-09-16T00:00:00\",\"2021-09-17T00:00:00\",\"2021-09-18T00:00:00\",\"2021-09-19T00:00:00\",\"2021-09-20T00:00:00\",\"2021-09-21T00:00:00\",\"2021-09-22T00:00:00\",\"2021-09-23T00:00:00\",\"2021-09-24T00:00:00\",\"2021-09-25T00:00:00\",\"2021-09-26T00:00:00\",\"2021-09-27T00:00:00\",\"2021-09-28T00:00:00\",\"2021-09-29T00:00:00\",\"2021-09-30T00:00:00\",\"2021-10-01T00:00:00\",\"2021-10-02T00:00:00\",\"2021-10-03T00:00:00\",\"2021-10-04T00:00:00\",\"2021-10-05T00:00:00\",\"2021-10-06T00:00:00\",\"2021-10-07T00:00:00\",\"2021-10-08T00:00:00\",\"2021-10-09T00:00:00\",\"2021-10-10T00:00:00\",\"2021-10-11T00:00:00\",\"2021-10-12T00:00:00\",\"2021-10-13T00:00:00\",\"2021-10-14T00:00:00\",\"2021-10-15T00:00:00\",\"2021-10-16T00:00:00\",\"2021-10-17T00:00:00\",\"2021-10-18T00:00:00\",\"2021-10-19T00:00:00\",\"2021-10-20T00:00:00\",\"2021-10-21T00:00:00\",\"2021-10-22T00:00:00\",\"2021-10-23T00:00:00\",\"2021-10-24T00:00:00\",\"2021-10-25T00:00:00\",\"2021-10-26T00:00:00\",\"2021-10-27T00:00:00\",\"2021-10-28T00:00:00\",\"2021-10-29T00:00:00\",\"2021-10-30T00:00:00\",\"2021-10-31T00:00:00\",\"2021-11-01T00:00:00\",\"2021-11-02T00:00:00\",\"2021-11-03T00:00:00\",\"2021-11-04T00:00:00\",\"2021-11-05T00:00:00\",\"2021-11-06T00:00:00\",\"2021-11-07T00:00:00\",\"2021-11-08T00:00:00\",\"2021-11-09T00:00:00\",\"2021-11-10T00:00:00\",\"2021-11-11T00:00:00\",\"2021-11-12T00:00:00\",\"2021-11-13T00:00:00\",\"2021-11-14T00:00:00\",\"2021-11-15T00:00:00\",\"2021-11-16T00:00:00\",\"2021-11-17T00:00:00\",\"2021-11-18T00:00:00\",\"2021-11-19T00:00:00\",\"2021-11-20T00:00:00\",\"2021-11-21T00:00:00\",\"2021-11-22T00:00:00\",\"2021-11-23T00:00:00\",\"2021-11-24T00:00:00\",\"2021-11-25T00:00:00\",\"2021-11-26T00:00:00\",\"2021-11-27T00:00:00\",\"2021-11-28T00:00:00\",\"2021-11-29T00:00:00\",\"2021-11-30T00:00:00\",\"2021-12-01T00:00:00\",\"2021-12-02T00:00:00\",\"2021-12-03T00:00:00\",\"2021-12-04T00:00:00\",\"2021-12-05T00:00:00\",\"2021-12-06T00:00:00\",\"2021-12-07T00:00:00\",\"2021-12-08T00:00:00\",\"2021-12-09T00:00:00\",\"2021-12-10T00:00:00\",\"2021-12-11T00:00:00\",\"2021-12-12T00:00:00\",\"2021-12-13T00:00:00\",\"2021-12-14T00:00:00\",\"2021-12-15T00:00:00\",\"2021-12-16T00:00:00\",\"2021-12-17T00:00:00\",\"2021-12-18T00:00:00\",\"2021-12-19T00:00:00\",\"2021-12-20T00:00:00\",\"2021-12-21T00:00:00\",\"2021-12-22T00:00:00\",\"2021-12-23T00:00:00\",\"2021-12-24T00:00:00\",\"2021-12-25T00:00:00\",\"2021-12-26T00:00:00\",\"2021-12-27T00:00:00\",\"2021-12-28T00:00:00\",\"2021-12-29T00:00:00\",\"2021-12-30T00:00:00\",\"2021-12-31T00:00:00\",\"2022-01-01T00:00:00\",\"2022-01-02T00:00:00\",\"2022-01-03T00:00:00\",\"2022-01-04T00:00:00\",\"2022-01-05T00:00:00\",\"2022-01-06T00:00:00\",\"2022-01-07T00:00:00\",\"2022-01-08T00:00:00\",\"2022-01-09T00:00:00\",\"2022-01-10T00:00:00\",\"2022-01-11T00:00:00\",\"2022-01-12T00:00:00\",\"2022-01-13T00:00:00\",\"2022-01-14T00:00:00\",\"2022-01-15T00:00:00\",\"2022-01-16T00:00:00\",\"2022-01-17T00:00:00\",\"2022-01-18T00:00:00\",\"2022-01-19T00:00:00\",\"2022-01-20T00:00:00\",\"2022-01-21T00:00:00\",\"2022-01-22T00:00:00\",\"2022-01-23T00:00:00\",\"2022-01-24T00:00:00\",\"2022-01-25T00:00:00\",\"2022-01-26T00:00:00\",\"2022-01-27T00:00:00\",\"2022-01-28T00:00:00\",\"2022-01-29T00:00:00\",\"2022-01-30T00:00:00\",\"2022-01-31T00:00:00\",\"2022-02-01T00:00:00\",\"2022-02-02T00:00:00\",\"2022-02-03T00:00:00\",\"2022-02-04T00:00:00\",\"2022-02-05T00:00:00\",\"2022-02-06T00:00:00\",\"2022-02-07T00:00:00\",\"2022-02-08T00:00:00\"],\"type\":\"candlestick\",\"xaxis\":\"x\",\"yaxis\":\"y\"},{\"marker\":{\"color\":\"blue\"},\"name\":\"MMA_9p\",\"x\":[\"2021-01-01T00:00:00\",\"2021-01-02T00:00:00\",\"2021-01-03T00:00:00\",\"2021-01-04T00:00:00\",\"2021-01-05T00:00:00\",\"2021-01-06T00:00:00\",\"2021-01-07T00:00:00\",\"2021-01-08T00:00:00\",\"2021-01-09T00:00:00\",\"2021-01-10T00:00:00\",\"2021-01-11T00:00:00\",\"2021-01-12T00:00:00\",\"2021-01-13T00:00:00\",\"2021-01-14T00:00:00\",\"2021-01-15T00:00:00\",\"2021-01-16T00:00:00\",\"2021-01-17T00:00:00\",\"2021-01-18T00:00:00\",\"2021-01-19T00:00:00\",\"2021-01-20T00:00:00\",\"2021-01-21T00:00:00\",\"2021-01-22T00:00:00\",\"2021-01-23T00:00:00\",\"2021-01-24T00:00:00\",\"2021-01-25T00:00:00\",\"2021-01-26T00:00:00\",\"2021-01-27T00:00:00\",\"2021-01-28T00:00:00\",\"2021-01-29T00:00:00\",\"2021-01-30T00:00:00\",\"2021-01-31T00:00:00\",\"2021-02-01T00:00:00\",\"2021-02-02T00:00:00\",\"2021-02-03T00:00:00\",\"2021-02-04T00:00:00\",\"2021-02-05T00:00:00\",\"2021-02-06T00:00:00\",\"2021-02-07T00:00:00\",\"2021-02-08T00:00:00\",\"2021-02-09T00:00:00\",\"2021-02-10T00:00:00\",\"2021-02-11T00:00:00\",\"2021-02-12T00:00:00\",\"2021-02-13T00:00:00\",\"2021-02-14T00:00:00\",\"2021-02-15T00:00:00\",\"2021-02-16T00:00:00\",\"2021-02-17T00:00:00\",\"2021-02-18T00:00:00\",\"2021-02-19T00:00:00\",\"2021-02-20T00:00:00\",\"2021-02-21T00:00:00\",\"2021-02-22T00:00:00\",\"2021-02-23T00:00:00\",\"2021-02-24T00:00:00\",\"2021-02-25T00:00:00\",\"2021-02-26T00:00:00\",\"2021-02-27T00:00:00\",\"2021-02-28T00:00:00\",\"2021-03-01T00:00:00\",\"2021-03-02T00:00:00\",\"2021-03-03T00:00:00\",\"2021-03-04T00:00:00\",\"2021-03-05T00:00:00\",\"2021-03-06T00:00:00\",\"2021-03-07T00:00:00\",\"2021-03-08T00:00:00\",\"2021-03-09T00:00:00\",\"2021-03-10T00:00:00\",\"2021-03-11T00:00:00\",\"2021-03-12T00:00:00\",\"2021-03-13T00:00:00\",\"2021-03-14T00:00:00\",\"2021-03-15T00:00:00\",\"2021-03-16T00:00:00\",\"2021-03-17T00:00:00\",\"2021-03-18T00:00:00\",\"2021-03-19T00:00:00\",\"2021-03-20T00:00:00\",\"2021-03-21T00:00:00\",\"2021-03-22T00:00:00\",\"2021-03-23T00:00:00\",\"2021-03-24T00:00:00\",\"2021-03-25T00:00:00\",\"2021-03-26T00:00:00\",\"2021-03-27T00:00:00\",\"2021-03-28T00:00:00\",\"2021-03-29T00:00:00\",\"2021-03-30T00:00:00\",\"2021-03-31T00:00:00\",\"2021-04-01T00:00:00\",\"2021-04-02T00:00:00\",\"2021-04-03T00:00:00\",\"2021-04-04T00:00:00\",\"2021-04-05T00:00:00\",\"2021-04-06T00:00:00\",\"2021-04-07T00:00:00\",\"2021-04-08T00:00:00\",\"2021-04-09T00:00:00\",\"2021-04-10T00:00:00\",\"2021-04-11T00:00:00\",\"2021-04-12T00:00:00\",\"2021-04-13T00:00:00\",\"2021-04-14T00:00:00\",\"2021-04-15T00:00:00\",\"2021-04-16T00:00:00\",\"2021-04-17T00:00:00\",\"2021-04-18T00:00:00\",\"2021-04-19T00:00:00\",\"2021-04-20T00:00:00\",\"2021-04-21T00:00:00\",\"2021-04-22T00:00:00\",\"2021-04-23T00:00:00\",\"2021-04-24T00:00:00\",\"2021-04-25T00:00:00\",\"2021-04-26T00:00:00\",\"2021-04-27T00:00:00\",\"2021-04-28T00:00:00\",\"2021-04-29T00:00:00\",\"2021-04-30T00:00:00\",\"2021-05-01T00:00:00\",\"2021-05-02T00:00:00\",\"2021-05-03T00:00:00\",\"2021-05-04T00:00:00\",\"2021-05-05T00:00:00\",\"2021-05-06T00:00:00\",\"2021-05-07T00:00:00\",\"2021-05-08T00:00:00\",\"2021-05-09T00:00:00\",\"2021-05-10T00:00:00\",\"2021-05-11T00:00:00\",\"2021-05-12T00:00:00\",\"2021-05-13T00:00:00\",\"2021-05-14T00:00:00\",\"2021-05-15T00:00:00\",\"2021-05-16T00:00:00\",\"2021-05-17T00:00:00\",\"2021-05-18T00:00:00\",\"2021-05-19T00:00:00\",\"2021-05-20T00:00:00\",\"2021-05-21T00:00:00\",\"2021-05-22T00:00:00\",\"2021-05-23T00:00:00\",\"2021-05-24T00:00:00\",\"2021-05-25T00:00:00\",\"2021-05-26T00:00:00\",\"2021-05-27T00:00:00\",\"2021-05-28T00:00:00\",\"2021-05-29T00:00:00\",\"2021-05-30T00:00:00\",\"2021-05-31T00:00:00\",\"2021-06-01T00:00:00\",\"2021-06-02T00:00:00\",\"2021-06-03T00:00:00\",\"2021-06-04T00:00:00\",\"2021-06-05T00:00:00\",\"2021-06-06T00:00:00\",\"2021-06-07T00:00:00\",\"2021-06-08T00:00:00\",\"2021-06-09T00:00:00\",\"2021-06-10T00:00:00\",\"2021-06-11T00:00:00\",\"2021-06-12T00:00:00\",\"2021-06-13T00:00:00\",\"2021-06-14T00:00:00\",\"2021-06-15T00:00:00\",\"2021-06-16T00:00:00\",\"2021-06-17T00:00:00\",\"2021-06-18T00:00:00\",\"2021-06-19T00:00:00\",\"2021-06-20T00:00:00\",\"2021-06-21T00:00:00\",\"2021-06-22T00:00:00\",\"2021-06-23T00:00:00\",\"2021-06-24T00:00:00\",\"2021-06-25T00:00:00\",\"2021-06-26T00:00:00\",\"2021-06-27T00:00:00\",\"2021-06-28T00:00:00\",\"2021-06-29T00:00:00\",\"2021-06-30T00:00:00\",\"2021-07-01T00:00:00\",\"2021-07-02T00:00:00\",\"2021-07-03T00:00:00\",\"2021-07-04T00:00:00\",\"2021-07-05T00:00:00\",\"2021-07-06T00:00:00\",\"2021-07-07T00:00:00\",\"2021-07-08T00:00:00\",\"2021-07-09T00:00:00\",\"2021-07-10T00:00:00\",\"2021-07-11T00:00:00\",\"2021-07-12T00:00:00\",\"2021-07-13T00:00:00\",\"2021-07-14T00:00:00\",\"2021-07-15T00:00:00\",\"2021-07-16T00:00:00\",\"2021-07-17T00:00:00\",\"2021-07-18T00:00:00\",\"2021-07-19T00:00:00\",\"2021-07-20T00:00:00\",\"2021-07-21T00:00:00\",\"2021-07-22T00:00:00\",\"2021-07-23T00:00:00\",\"2021-07-24T00:00:00\",\"2021-07-25T00:00:00\",\"2021-07-26T00:00:00\",\"2021-07-27T00:00:00\",\"2021-07-28T00:00:00\",\"2021-07-29T00:00:00\",\"2021-07-30T00:00:00\",\"2021-07-31T00:00:00\",\"2021-08-01T00:00:00\",\"2021-08-02T00:00:00\",\"2021-08-03T00:00:00\",\"2021-08-04T00:00:00\",\"2021-08-05T00:00:00\",\"2021-08-06T00:00:00\",\"2021-08-07T00:00:00\",\"2021-08-08T00:00:00\",\"2021-08-09T00:00:00\",\"2021-08-10T00:00:00\",\"2021-08-11T00:00:00\",\"2021-08-12T00:00:00\",\"2021-08-13T00:00:00\",\"2021-08-14T00:00:00\",\"2021-08-15T00:00:00\",\"2021-08-16T00:00:00\",\"2021-08-17T00:00:00\",\"2021-08-18T00:00:00\",\"2021-08-19T00:00:00\",\"2021-08-20T00:00:00\",\"2021-08-21T00:00:00\",\"2021-08-22T00:00:00\",\"2021-08-23T00:00:00\",\"2021-08-24T00:00:00\",\"2021-08-25T00:00:00\",\"2021-08-26T00:00:00\",\"2021-08-27T00:00:00\",\"2021-08-28T00:00:00\",\"2021-08-29T00:00:00\",\"2021-08-30T00:00:00\",\"2021-08-31T00:00:00\",\"2021-09-01T00:00:00\",\"2021-09-02T00:00:00\",\"2021-09-03T00:00:00\",\"2021-09-04T00:00:00\",\"2021-09-05T00:00:00\",\"2021-09-06T00:00:00\",\"2021-09-07T00:00:00\",\"2021-09-08T00:00:00\",\"2021-09-09T00:00:00\",\"2021-09-10T00:00:00\",\"2021-09-11T00:00:00\",\"2021-09-12T00:00:00\",\"2021-09-13T00:00:00\",\"2021-09-14T00:00:00\",\"2021-09-15T00:00:00\",\"2021-09-16T00:00:00\",\"2021-09-17T00:00:00\",\"2021-09-18T00:00:00\",\"2021-09-19T00:00:00\",\"2021-09-20T00:00:00\",\"2021-09-21T00:00:00\",\"2021-09-22T00:00:00\",\"2021-09-23T00:00:00\",\"2021-09-24T00:00:00\",\"2021-09-25T00:00:00\",\"2021-09-26T00:00:00\",\"2021-09-27T00:00:00\",\"2021-09-28T00:00:00\",\"2021-09-29T00:00:00\",\"2021-09-30T00:00:00\",\"2021-10-01T00:00:00\",\"2021-10-02T00:00:00\",\"2021-10-03T00:00:00\",\"2021-10-04T00:00:00\",\"2021-10-05T00:00:00\",\"2021-10-06T00:00:00\",\"2021-10-07T00:00:00\",\"2021-10-08T00:00:00\",\"2021-10-09T00:00:00\",\"2021-10-10T00:00:00\",\"2021-10-11T00:00:00\",\"2021-10-12T00:00:00\",\"2021-10-13T00:00:00\",\"2021-10-14T00:00:00\",\"2021-10-15T00:00:00\",\"2021-10-16T00:00:00\",\"2021-10-17T00:00:00\",\"2021-10-18T00:00:00\",\"2021-10-19T00:00:00\",\"2021-10-20T00:00:00\",\"2021-10-21T00:00:00\",\"2021-10-22T00:00:00\",\"2021-10-23T00:00:00\",\"2021-10-24T00:00:00\",\"2021-10-25T00:00:00\",\"2021-10-26T00:00:00\",\"2021-10-27T00:00:00\",\"2021-10-28T00:00:00\",\"2021-10-29T00:00:00\",\"2021-10-30T00:00:00\",\"2021-10-31T00:00:00\",\"2021-11-01T00:00:00\",\"2021-11-02T00:00:00\",\"2021-11-03T00:00:00\",\"2021-11-04T00:00:00\",\"2021-11-05T00:00:00\",\"2021-11-06T00:00:00\",\"2021-11-07T00:00:00\",\"2021-11-08T00:00:00\",\"2021-11-09T00:00:00\",\"2021-11-10T00:00:00\",\"2021-11-11T00:00:00\",\"2021-11-12T00:00:00\",\"2021-11-13T00:00:00\",\"2021-11-14T00:00:00\",\"2021-11-15T00:00:00\",\"2021-11-16T00:00:00\",\"2021-11-17T00:00:00\",\"2021-11-18T00:00:00\",\"2021-11-19T00:00:00\",\"2021-11-20T00:00:00\",\"2021-11-21T00:00:00\",\"2021-11-22T00:00:00\",\"2021-11-23T00:00:00\",\"2021-11-24T00:00:00\",\"2021-11-25T00:00:00\",\"2021-11-26T00:00:00\",\"2021-11-27T00:00:00\",\"2021-11-28T00:00:00\",\"2021-11-29T00:00:00\",\"2021-11-30T00:00:00\",\"2021-12-01T00:00:00\",\"2021-12-02T00:00:00\",\"2021-12-03T00:00:00\",\"2021-12-04T00:00:00\",\"2021-12-05T00:00:00\",\"2021-12-06T00:00:00\",\"2021-12-07T00:00:00\",\"2021-12-08T00:00:00\",\"2021-12-09T00:00:00\",\"2021-12-10T00:00:00\",\"2021-12-11T00:00:00\",\"2021-12-12T00:00:00\",\"2021-12-13T00:00:00\",\"2021-12-14T00:00:00\",\"2021-12-15T00:00:00\",\"2021-12-16T00:00:00\",\"2021-12-17T00:00:00\",\"2021-12-18T00:00:00\",\"2021-12-19T00:00:00\",\"2021-12-20T00:00:00\",\"2021-12-21T00:00:00\",\"2021-12-22T00:00:00\",\"2021-12-23T00:00:00\",\"2021-12-24T00:00:00\",\"2021-12-25T00:00:00\",\"2021-12-26T00:00:00\",\"2021-12-27T00:00:00\",\"2021-12-28T00:00:00\",\"2021-12-29T00:00:00\",\"2021-12-30T00:00:00\",\"2021-12-31T00:00:00\",\"2022-01-01T00:00:00\",\"2022-01-02T00:00:00\",\"2022-01-03T00:00:00\",\"2022-01-04T00:00:00\",\"2022-01-05T00:00:00\",\"2022-01-06T00:00:00\",\"2022-01-07T00:00:00\",\"2022-01-08T00:00:00\",\"2022-01-09T00:00:00\",\"2022-01-10T00:00:00\",\"2022-01-11T00:00:00\",\"2022-01-12T00:00:00\",\"2022-01-13T00:00:00\",\"2022-01-14T00:00:00\",\"2022-01-15T00:00:00\",\"2022-01-16T00:00:00\",\"2022-01-17T00:00:00\",\"2022-01-18T00:00:00\",\"2022-01-19T00:00:00\",\"2022-01-20T00:00:00\",\"2022-01-21T00:00:00\",\"2022-01-22T00:00:00\",\"2022-01-23T00:00:00\",\"2022-01-24T00:00:00\",\"2022-01-25T00:00:00\",\"2022-01-26T00:00:00\",\"2022-01-27T00:00:00\",\"2022-01-28T00:00:00\",\"2022-01-29T00:00:00\",\"2022-01-30T00:00:00\",\"2022-01-31T00:00:00\",\"2022-02-01T00:00:00\",\"2022-02-02T00:00:00\",\"2022-02-03T00:00:00\",\"2022-02-04T00:00:00\",\"2022-02-05T00:00:00\",\"2022-02-06T00:00:00\",\"2022-02-07T00:00:00\",\"2022-02-08T00:00:00\"],\"y\":[null,null,null,null,null,null,null,null,189066.11111111112,195278.33333333334,198637.88888888888,199819.44444444444,203041.55555555556,205948.44444444444,206097.44444444444,203697.0,200252.22222222222,197379.33333333334,195658.22222222222,194585.66666666666,192758.88888888888,190808.77777777778,187607.11111111112,185327.44444444444,183597.0,181776.22222222222,178644.11111111112,177326.77777777778,177208.22222222222,179402.77777777778,179544.77777777778,180317.77777777778,181882.33333333334,184545.44444444444,187489.44444444444,192036.44444444444,195433.11111111112,198073.0,204717.55555555556,212491.55555555556,219121.11111111112,226741.44444444444,232845.0,238986.11111111112,245431.44444444444,250921.55555555556,257012.22222222222,261275.66666666666,264766.22222222225,271594.8888888889,276916.6666666667,283492.55555555556,288370.77777777775,289042.55555555556,290313.0,290106.6666666667,287517.8888888889,285201.8888888889,279885.3333333333,276927.6666666667,272507.77777777775,270752.8888888889,271385.44444444444,272055.6666666667,273720.22222222225,276642.55555555556,281133.3333333333,287916.1111111111,292203.0,297211.77777777775,301150.3333333333,308479.3333333333,314533.8888888889,318723.44444444444,322468.44444444444,325498.6666666667,326137.1111111111,326502.1111111111,326693.6666666667,326710.55555555556,322261.3333333333,318951.6666666667,316936.8888888889,313727.0,312372.22222222225,312085.77777777775,311838.22222222225,312834.3333333333,314889.8888888889,318364.3333333333,322174.77777777775,326627.55555555556,331003.22222222225,333095.77777777775,334838.3333333333,335684.77777777775,334036.77777777775,332702.77777777775,332483.22222222225,332832.8888888889,333230.0,334639.0,338126.3333333333,340796.1111111111,344354.77777777775,347818.77777777775,349570.3333333333,348238.55555555556,345202.1111111111,342540.0,337898.1111111111,328698.44444444444,320079.3333333333,310911.22222222225,302359.3333333333,297085.77777777775,295090.6666666667,293004.22222222225,289601.6666666667,290947.1111111111,294470.1111111111,297453.3333333333,301485.8888888889,303947.44444444444,305597.77777777775,305472.55555555556,306428.0,309100.1111111111,308279.22222222225,305988.77777777775,304588.8888888889,299248.0,296084.8888888889,291015.44444444444,285337.0,279087.3333333333,270123.44444444444,261193.66666666666,250372.11111111112,241444.66666666666,234416.77777777778,227556.11111111112,219184.22222222222,214581.55555555556,209939.11111111112,207530.0,204783.66666666666,203539.55555555556,199633.66666666666,197977.0,197012.22222222222,197070.77777777778,195208.44444444444,194464.0,191867.88888888888,189410.55555555556,188711.77777777778,187481.66666666666,185441.66666666666,184946.44444444444,184617.88888888888,184672.33333333334,182914.22222222222,184300.33333333334,187150.88888888888,189576.66666666666,192253.22222222222,194706.44444444444,193951.77777777778,193492.77777777778,192467.22222222222,189949.44444444444,185935.77777777778,181743.77777777778,178186.33333333334,174052.55555555556,170648.55555555556,169292.77777777778,167972.66666666666,167457.44444444444,169102.0,169882.44444444444,170151.66666666666,170592.88888888888,172866.44444444444,174243.11111111112,174960.0,175777.44444444444,175364.66666666666,175729.33333333334,176584.11111111112,177600.33333333334,177274.88888888888,176386.11111111112,175779.55555555556,174234.77777777778,172465.88888888888,171132.88888888888,169515.33333333334,167851.0,165198.88888888888,164690.88888888888,164571.66666666666,165421.44444444444,167065.88888888888,169465.33333333334,172947.55555555556,177492.77777777778,182319.88888888888,187599.77777777778,193313.33333333334,198442.77777777778,201991.88888888888,204760.88888888888,206512.55555555556,207917.22222222222,208901.0,210922.55555555556,214263.0,215476.44444444444,218546.77777777778,221945.11111111112,225976.11111111112,229887.66666666666,234912.33333333334,238753.55555555556,241349.11111111112,242354.44444444444,243292.11111111112,243097.11111111112,244670.88888888888,247540.66666666666,250896.66666666666,252483.22222222222,254734.66666666666,255316.33333333334,256929.33333333334,258012.22222222222,259608.66666666666,260025.55555555556,258740.55555555556,256609.22222222222,254300.0,252573.66666666666,252963.77777777778,253265.33333333334,254595.0,256043.0,258066.66666666666,257370.77777777778,257280.0,257194.0,255540.0,253690.11111111112,251864.44444444444,249010.0,246661.55555555556,244214.77777777778,244660.66666666666,245411.0,246730.33333333334,248130.88888888888,247129.0,244060.88888888888,243815.0,242856.88888888888,240427.22222222222,237971.77777777778,235784.33333333334,232629.11111111112,229626.0,229206.77777777778,231597.22222222222,234372.22222222222,236199.33333333334,239278.22222222222,243402.33333333334,248962.44444444444,257361.0,265458.1111111111,273487.3333333333,280798.55555555556,285899.22222222225,293096.1111111111,299166.6666666667,304872.44444444444,308951.0,312939.3333333333,317254.8888888889,321651.6666666667,326038.44444444444,332175.55555555556,337619.1111111111,342023.1111111111,344915.3333333333,348160.0,348861.0,350830.8888888889,350837.22222222225,349218.6666666667,347615.55555555556,345954.55555555556,345944.8888888889,346502.3333333333,346572.22222222225,348152.3333333333,348182.55555555556,349181.8888888889,350732.1111111111,350833.6666666667,350858.44444444444,353520.6666666667,355978.22222222225,357470.1111111111,356928.55555555556,356991.3333333333,357919.55555555556,360001.55555555556,360752.0,358586.6666666667,354200.77777777775,348556.77777777775,344846.3333333333,343017.77777777775,340722.22222222225,336561.1111111111,332609.44444444444,329501.0,329264.8888888889,325776.6666666667,324693.44444444444,324225.3333333333,322981.6666666667,321830.8888888889,322771.55555555556,322355.44444444444,320509.55555555556,314970.6666666667,312536.77777777775,310153.77777777775,305772.8888888889,300791.6666666667,294769.77777777775,288077.1111111111,283340.0,280636.22222222225,278865.77777777775,278057.55555555556,276863.44444444444,275522.1111111111,273289.6666666667,273089.1111111111,273058.1111111111,271861.77777777775,271528.1111111111,272586.0,274036.77777777775,275240.6666666667,276901.77777777775,279926.22222222225,282251.3333333333,282598.3333333333,282385.0,280743.8888888889,278904.55555555556,276611.8888888889,273999.22222222225,271350.0,268214.55555555556,264013.0,261480.11111111112,258088.11111111112,254964.77777777778,252511.11111111112,249163.88888888888,246283.0,244156.44444444444,241471.44444444444,240322.33333333334,239584.55555555556,240082.88888888888,239800.11111111112,239700.88888888888,238648.66666666666,236693.22222222222,231789.77777777778,226919.33333333334,222487.11111111112,218348.0,214200.33333333334,210555.77777777778,206696.44444444444,203936.11111111112,202161.22222222222,202688.55555555556,203976.66666666666,204543.77777777778,203719.44444444444,203174.66666666666,205423.33333333334,207606.88888888888,210157.66666666666,212991.44444444444,216054.44444444444],\"type\":\"scatter\",\"xaxis\":\"x\",\"yaxis\":\"y\"}],                        {\"template\":{\"data\":{\"bar\":[{\"error_x\":{\"color\":\"#2a3f5f\"},\"error_y\":{\"color\":\"#2a3f5f\"},\"marker\":{\"line\":{\"color\":\"#E5ECF6\",\"width\":0.5},\"pattern\":{\"fillmode\":\"overlay\",\"size\":10,\"solidity\":0.2}},\"type\":\"bar\"}],\"barpolar\":[{\"marker\":{\"line\":{\"color\":\"#E5ECF6\",\"width\":0.5},\"pattern\":{\"fillmode\":\"overlay\",\"size\":10,\"solidity\":0.2}},\"type\":\"barpolar\"}],\"carpet\":[{\"aaxis\":{\"endlinecolor\":\"#2a3f5f\",\"gridcolor\":\"white\",\"linecolor\":\"white\",\"minorgridcolor\":\"white\",\"startlinecolor\":\"#2a3f5f\"},\"baxis\":{\"endlinecolor\":\"#2a3f5f\",\"gridcolor\":\"white\",\"linecolor\":\"white\",\"minorgridcolor\":\"white\",\"startlinecolor\":\"#2a3f5f\"},\"type\":\"carpet\"}],\"choropleth\":[{\"colorbar\":{\"outlinewidth\":0,\"ticks\":\"\"},\"type\":\"choropleth\"}],\"contour\":[{\"colorbar\":{\"outlinewidth\":0,\"ticks\":\"\"},\"colorscale\":[[0.0,\"#0d0887\"],[0.1111111111111111,\"#46039f\"],[0.2222222222222222,\"#7201a8\"],[0.3333333333333333,\"#9c179e\"],[0.4444444444444444,\"#bd3786\"],[0.5555555555555556,\"#d8576b\"],[0.6666666666666666,\"#ed7953\"],[0.7777777777777778,\"#fb9f3a\"],[0.8888888888888888,\"#fdca26\"],[1.0,\"#f0f921\"]],\"type\":\"contour\"}],\"contourcarpet\":[{\"colorbar\":{\"outlinewidth\":0,\"ticks\":\"\"},\"type\":\"contourcarpet\"}],\"heatmap\":[{\"colorbar\":{\"outlinewidth\":0,\"ticks\":\"\"},\"colorscale\":[[0.0,\"#0d0887\"],[0.1111111111111111,\"#46039f\"],[0.2222222222222222,\"#7201a8\"],[0.3333333333333333,\"#9c179e\"],[0.4444444444444444,\"#bd3786\"],[0.5555555555555556,\"#d8576b\"],[0.6666666666666666,\"#ed7953\"],[0.7777777777777778,\"#fb9f3a\"],[0.8888888888888888,\"#fdca26\"],[1.0,\"#f0f921\"]],\"type\":\"heatmap\"}],\"heatmapgl\":[{\"colorbar\":{\"outlinewidth\":0,\"ticks\":\"\"},\"colorscale\":[[0.0,\"#0d0887\"],[0.1111111111111111,\"#46039f\"],[0.2222222222222222,\"#7201a8\"],[0.3333333333333333,\"#9c179e\"],[0.4444444444444444,\"#bd3786\"],[0.5555555555555556,\"#d8576b\"],[0.6666666666666666,\"#ed7953\"],[0.7777777777777778,\"#fb9f3a\"],[0.8888888888888888,\"#fdca26\"],[1.0,\"#f0f921\"]],\"type\":\"heatmapgl\"}],\"histogram\":[{\"marker\":{\"pattern\":{\"fillmode\":\"overlay\",\"size\":10,\"solidity\":0.2}},\"type\":\"histogram\"}],\"histogram2d\":[{\"colorbar\":{\"outlinewidth\":0,\"ticks\":\"\"},\"colorscale\":[[0.0,\"#0d0887\"],[0.1111111111111111,\"#46039f\"],[0.2222222222222222,\"#7201a8\"],[0.3333333333333333,\"#9c179e\"],[0.4444444444444444,\"#bd3786\"],[0.5555555555555556,\"#d8576b\"],[0.6666666666666666,\"#ed7953\"],[0.7777777777777778,\"#fb9f3a\"],[0.8888888888888888,\"#fdca26\"],[1.0,\"#f0f921\"]],\"type\":\"histogram2d\"}],\"histogram2dcontour\":[{\"colorbar\":{\"outlinewidth\":0,\"ticks\":\"\"},\"colorscale\":[[0.0,\"#0d0887\"],[0.1111111111111111,\"#46039f\"],[0.2222222222222222,\"#7201a8\"],[0.3333333333333333,\"#9c179e\"],[0.4444444444444444,\"#bd3786\"],[0.5555555555555556,\"#d8576b\"],[0.6666666666666666,\"#ed7953\"],[0.7777777777777778,\"#fb9f3a\"],[0.8888888888888888,\"#fdca26\"],[1.0,\"#f0f921\"]],\"type\":\"histogram2dcontour\"}],\"mesh3d\":[{\"colorbar\":{\"outlinewidth\":0,\"ticks\":\"\"},\"type\":\"mesh3d\"}],\"parcoords\":[{\"line\":{\"colorbar\":{\"outlinewidth\":0,\"ticks\":\"\"}},\"type\":\"parcoords\"}],\"pie\":[{\"automargin\":true,\"type\":\"pie\"}],\"scatter\":[{\"marker\":{\"colorbar\":{\"outlinewidth\":0,\"ticks\":\"\"}},\"type\":\"scatter\"}],\"scatter3d\":[{\"line\":{\"colorbar\":{\"outlinewidth\":0,\"ticks\":\"\"}},\"marker\":{\"colorbar\":{\"outlinewidth\":0,\"ticks\":\"\"}},\"type\":\"scatter3d\"}],\"scattercarpet\":[{\"marker\":{\"colorbar\":{\"outlinewidth\":0,\"ticks\":\"\"}},\"type\":\"scattercarpet\"}],\"scattergeo\":[{\"marker\":{\"colorbar\":{\"outlinewidth\":0,\"ticks\":\"\"}},\"type\":\"scattergeo\"}],\"scattergl\":[{\"marker\":{\"colorbar\":{\"outlinewidth\":0,\"ticks\":\"\"}},\"type\":\"scattergl\"}],\"scattermapbox\":[{\"marker\":{\"colorbar\":{\"outlinewidth\":0,\"ticks\":\"\"}},\"type\":\"scattermapbox\"}],\"scatterpolar\":[{\"marker\":{\"colorbar\":{\"outlinewidth\":0,\"ticks\":\"\"}},\"type\":\"scatterpolar\"}],\"scatterpolargl\":[{\"marker\":{\"colorbar\":{\"outlinewidth\":0,\"ticks\":\"\"}},\"type\":\"scatterpolargl\"}],\"scatterternary\":[{\"marker\":{\"colorbar\":{\"outlinewidth\":0,\"ticks\":\"\"}},\"type\":\"scatterternary\"}],\"surface\":[{\"colorbar\":{\"outlinewidth\":0,\"ticks\":\"\"},\"colorscale\":[[0.0,\"#0d0887\"],[0.1111111111111111,\"#46039f\"],[0.2222222222222222,\"#7201a8\"],[0.3333333333333333,\"#9c179e\"],[0.4444444444444444,\"#bd3786\"],[0.5555555555555556,\"#d8576b\"],[0.6666666666666666,\"#ed7953\"],[0.7777777777777778,\"#fb9f3a\"],[0.8888888888888888,\"#fdca26\"],[1.0,\"#f0f921\"]],\"type\":\"surface\"}],\"table\":[{\"cells\":{\"fill\":{\"color\":\"#EBF0F8\"},\"line\":{\"color\":\"white\"}},\"header\":{\"fill\":{\"color\":\"#C8D4E3\"},\"line\":{\"color\":\"white\"}},\"type\":\"table\"}]},\"layout\":{\"annotationdefaults\":{\"arrowcolor\":\"#2a3f5f\",\"arrowhead\":0,\"arrowwidth\":1},\"autotypenumbers\":\"strict\",\"coloraxis\":{\"colorbar\":{\"outlinewidth\":0,\"ticks\":\"\"}},\"colorscale\":{\"diverging\":[[0,\"#8e0152\"],[0.1,\"#c51b7d\"],[0.2,\"#de77ae\"],[0.3,\"#f1b6da\"],[0.4,\"#fde0ef\"],[0.5,\"#f7f7f7\"],[0.6,\"#e6f5d0\"],[0.7,\"#b8e186\"],[0.8,\"#7fbc41\"],[0.9,\"#4d9221\"],[1,\"#276419\"]],\"sequential\":[[0.0,\"#0d0887\"],[0.1111111111111111,\"#46039f\"],[0.2222222222222222,\"#7201a8\"],[0.3333333333333333,\"#9c179e\"],[0.4444444444444444,\"#bd3786\"],[0.5555555555555556,\"#d8576b\"],[0.6666666666666666,\"#ed7953\"],[0.7777777777777778,\"#fb9f3a\"],[0.8888888888888888,\"#fdca26\"],[1.0,\"#f0f921\"]],\"sequentialminus\":[[0.0,\"#0d0887\"],[0.1111111111111111,\"#46039f\"],[0.2222222222222222,\"#7201a8\"],[0.3333333333333333,\"#9c179e\"],[0.4444444444444444,\"#bd3786\"],[0.5555555555555556,\"#d8576b\"],[0.6666666666666666,\"#ed7953\"],[0.7777777777777778,\"#fb9f3a\"],[0.8888888888888888,\"#fdca26\"],[1.0,\"#f0f921\"]]},\"colorway\":[\"#636efa\",\"#EF553B\",\"#00cc96\",\"#ab63fa\",\"#FFA15A\",\"#19d3f3\",\"#FF6692\",\"#B6E880\",\"#FF97FF\",\"#FECB52\"],\"font\":{\"color\":\"#2a3f5f\"},\"geo\":{\"bgcolor\":\"white\",\"lakecolor\":\"white\",\"landcolor\":\"#E5ECF6\",\"showlakes\":true,\"showland\":true,\"subunitcolor\":\"white\"},\"hoverlabel\":{\"align\":\"left\"},\"hovermode\":\"closest\",\"mapbox\":{\"style\":\"light\"},\"paper_bgcolor\":\"white\",\"plot_bgcolor\":\"#E5ECF6\",\"polar\":{\"angularaxis\":{\"gridcolor\":\"white\",\"linecolor\":\"white\",\"ticks\":\"\"},\"bgcolor\":\"#E5ECF6\",\"radialaxis\":{\"gridcolor\":\"white\",\"linecolor\":\"white\",\"ticks\":\"\"}},\"scene\":{\"xaxis\":{\"backgroundcolor\":\"#E5ECF6\",\"gridcolor\":\"white\",\"gridwidth\":2,\"linecolor\":\"white\",\"showbackground\":true,\"ticks\":\"\",\"zerolinecolor\":\"white\"},\"yaxis\":{\"backgroundcolor\":\"#E5ECF6\",\"gridcolor\":\"white\",\"gridwidth\":2,\"linecolor\":\"white\",\"showbackground\":true,\"ticks\":\"\",\"zerolinecolor\":\"white\"},\"zaxis\":{\"backgroundcolor\":\"#E5ECF6\",\"gridcolor\":\"white\",\"gridwidth\":2,\"linecolor\":\"white\",\"showbackground\":true,\"ticks\":\"\",\"zerolinecolor\":\"white\"}},\"shapedefaults\":{\"line\":{\"color\":\"#2a3f5f\"}},\"ternary\":{\"aaxis\":{\"gridcolor\":\"white\",\"linecolor\":\"white\",\"ticks\":\"\"},\"baxis\":{\"gridcolor\":\"white\",\"linecolor\":\"white\",\"ticks\":\"\"},\"bgcolor\":\"#E5ECF6\",\"caxis\":{\"gridcolor\":\"white\",\"linecolor\":\"white\",\"ticks\":\"\"}},\"title\":{\"x\":0.05},\"xaxis\":{\"automargin\":true,\"gridcolor\":\"white\",\"linecolor\":\"white\",\"ticks\":\"\",\"title\":{\"standoff\":15},\"zerolinecolor\":\"white\",\"zerolinewidth\":2},\"yaxis\":{\"automargin\":true,\"gridcolor\":\"white\",\"linecolor\":\"white\",\"ticks\":\"\",\"title\":{\"standoff\":15},\"zerolinecolor\":\"white\",\"zerolinewidth\":2}}},\"xaxis\":{\"anchor\":\"y\",\"domain\":[0.0,1.0],\"rangeslider\":{\"visible\":false}},\"yaxis\":{\"anchor\":\"x\",\"domain\":[0.0,1.0],\"title\":{\"text\":\"<b> Pre\\u00e7o Bitcoin (R$)\"}},\"width\":1000,\"height\":500},                        {\"responsive\": true}                    ).then(function(){\n",
              "                            \n",
              "var gd = document.getElementById('ef3daf62-74c7-4ab6-a179-9e78b9230f75');\n",
              "var x = new MutationObserver(function (mutations, observer) {{\n",
              "        var display = window.getComputedStyle(gd).display;\n",
              "        if (!display || display === 'none') {{\n",
              "            console.log([gd, 'removed!']);\n",
              "            Plotly.purge(gd);\n",
              "            observer.disconnect();\n",
              "        }}\n",
              "}});\n",
              "\n",
              "// Listen for the removal of the full notebook cells\n",
              "var notebookContainer = gd.closest('#notebook-container');\n",
              "if (notebookContainer) {{\n",
              "    x.observe(notebookContainer, {childList: true});\n",
              "}}\n",
              "\n",
              "// Listen for the clearing of the current output cell\n",
              "var outputEl = gd.closest('.output');\n",
              "if (outputEl) {{\n",
              "    x.observe(outputEl, {childList: true});\n",
              "}}\n",
              "\n",
              "                        })                };                            </script>        </div>\n",
              "</body>\n",
              "</html>"
            ]
          },
          "metadata": {},
          "output_type": "display_data"
        }
      ],
      "source": [
        "#GRÁFICO MÉDIA MOVEL\n",
        "#cria figura\n",
        "fig = make_subplots(rows=1, cols=1)\n",
        "#Adiciona o gráfico de candlestick com os parametros OHLC no eixo y e no eixo x o index com as datas\n",
        "fig.add_trace(go.Candlestick(name='Bitcoin_BRL', x=btc_brl.index, open=btc_brl['open'], high = btc_brl['high'], low=btc_brl['low'], close=btc_brl['close'],showlegend=True), row=1,col=1)\n",
        "# cria o gráfico de MMA com o mesmo racional de eixo de cima\n",
        "fig.add_trace(go.Scatter(name='MMA_9p', x=btc_brl.index, y=btc_brl.MMA, marker_color='blue'),row=1,col=1)\n",
        "#Personalizar o eixo Y\n",
        "fig.update_yaxes(title_text=\"<b> Preço Bitcoin (R$)\", row=1, col=1)\n",
        "#Personalizar aspectos da figura em geral\n",
        "fig.update_layout(xaxis_rangeslider_visible=False,width=1000 ,height=500)\n",
        "#Mostra a figura\n",
        "fig.show()"
      ]
    },
    {
      "cell_type": "markdown",
      "metadata": {
        "id": "uuu1vCY8EDt1"
      },
      "source": [
        "Regra 2: Preço candle anterior < MMA9p"
      ]
    },
    {
      "cell_type": "code",
      "execution_count": null,
      "metadata": {
        "id": "y6gwCjbcEJTO"
      },
      "outputs": [],
      "source": []
    }
  ],
  "metadata": {
    "colab": {
      "authorship_tag": "ABX9TyOEmJA9YvW/261opHzj/10u",
      "include_colab_link": true,
      "name": "Live 01 - Obtenção e análise de dados de BTC.ipynb",
      "provenance": []
    },
    "kernelspec": {
      "display_name": "Python 3",
      "name": "python3"
    },
    "language_info": {
      "name": "python"
    }
  },
  "nbformat": 4,
  "nbformat_minor": 0
}
